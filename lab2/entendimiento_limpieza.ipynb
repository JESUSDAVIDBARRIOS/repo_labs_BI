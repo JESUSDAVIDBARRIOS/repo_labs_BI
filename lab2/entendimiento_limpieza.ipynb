{
 "cells": [
  {
   "cell_type": "code",
   "execution_count": 3,
   "metadata": {},
   "outputs": [
    {
     "data": {
      "text/plain": [
       "(1068, 20)"
      ]
     },
     "execution_count": 3,
     "metadata": {},
     "output_type": "execute_result"
    }
   ],
   "source": [
    "# Pandas\n",
    "import pandas as pd\n",
    "pd.set_option('display.max_columns', 25) # Número máximo de columnas a mostrar\n",
    "pd.set_option('display.max_rows', 50) # Numero máximo de filas a mostar\n",
    "\n",
    "# Numpy\n",
    "import numpy as np\n",
    "np.random.seed(3301)\n",
    "\n",
    "# Seaborn\n",
    "import seaborn as sns \n",
    "\n",
    "# Matplolib\n",
    "%matplotlib inline\n",
    "import matplotlib.pyplot as plt\n",
    "\n",
    "# Lectura de datos\n",
    "db_route = \"data/datos_originales.csv\"\n",
    "df = pd.read_csv(db_route, sep=';')\n",
    "df.shape"
   ]
  },
  {
   "cell_type": "code",
   "execution_count": 4,
   "metadata": {},
   "outputs": [
    {
     "name": "stdout",
     "output_type": "stream",
     "text": [
      "Número de filas:  1068\n",
      "Número de columnas:  20\n",
      "Número de columnas y sus tipos de datos: \n",
      "\n",
      "No.                                  int64\n",
      "NIT                                  int64\n",
      "RAZON SOCIAL                        object\n",
      "SUPERVISOR                          object\n",
      "REGIÓN                              object\n",
      "DEPARTAMENTO DOMICILIO              object\n",
      "CIUDAD DOMICILIO                    object\n",
      "CIIU                                object\n",
      "MACROSECTOR                         object\n",
      "INGRESOS OPERACIONALES\\r\\n2018*     object\n",
      "GANANCIA (PERDIDA) 2018             object\n",
      "TOTAL ACTIVOS 2018                  object\n",
      "TOTAL PASIVOS 2018                  object\n",
      "TOTAL PATRIMONIO 2018               object\n",
      "INGRESOS OPERACIONALES\\r\\n2017*     object\n",
      "GANANCIA (PERDIDA) 2017            float64\n",
      "TOTAL ACTIVOS 2017                  object\n",
      "TOTAL PASIVOS 2017                  object\n",
      "TOTAL PATRIMONIO 2017               object\n",
      "GRUPO EN NIIF                       object\n",
      "dtype: object\n"
     ]
    }
   ],
   "source": [
    "print(\"Número de filas: \", df.shape[0])\n",
    "print(\"Número de columnas: \", df.shape[1])\n",
    "print(\"Número de columnas y sus tipos de datos: \\n\")\n",
    "print(df.dtypes)"
   ]
  },
  {
   "cell_type": "code",
   "execution_count": 5,
   "metadata": {},
   "outputs": [
    {
     "name": "stdout",
     "output_type": "stream",
     "text": [
      "Variables numéricas: \n",
      "\n"
     ]
    },
    {
     "data": {
      "text/html": [
       "<div>\n",
       "<style scoped>\n",
       "    .dataframe tbody tr th:only-of-type {\n",
       "        vertical-align: middle;\n",
       "    }\n",
       "\n",
       "    .dataframe tbody tr th {\n",
       "        vertical-align: top;\n",
       "    }\n",
       "\n",
       "    .dataframe thead th {\n",
       "        text-align: right;\n",
       "    }\n",
       "</style>\n",
       "<table border=\"1\" class=\"dataframe\">\n",
       "  <thead>\n",
       "    <tr style=\"text-align: right;\">\n",
       "      <th></th>\n",
       "      <th>No.</th>\n",
       "      <th>NIT</th>\n",
       "      <th>GANANCIA (PERDIDA) 2017</th>\n",
       "    </tr>\n",
       "  </thead>\n",
       "  <tbody>\n",
       "    <tr>\n",
       "      <th>count</th>\n",
       "      <td>1068.000000</td>\n",
       "      <td>1.068000e+03</td>\n",
       "      <td>1.067000e+03</td>\n",
       "    </tr>\n",
       "    <tr>\n",
       "      <th>mean</th>\n",
       "      <td>534.500000</td>\n",
       "      <td>8.590699e+08</td>\n",
       "      <td>1.147441e+08</td>\n",
       "    </tr>\n",
       "    <tr>\n",
       "      <th>std</th>\n",
       "      <td>308.449348</td>\n",
       "      <td>3.782354e+07</td>\n",
       "      <td>5.226753e+09</td>\n",
       "    </tr>\n",
       "    <tr>\n",
       "      <th>min</th>\n",
       "      <td>1.000000</td>\n",
       "      <td>8.000003e+08</td>\n",
       "      <td>-7.977997e+10</td>\n",
       "    </tr>\n",
       "    <tr>\n",
       "      <th>25%</th>\n",
       "      <td>267.750000</td>\n",
       "      <td>8.300113e+08</td>\n",
       "      <td>2.899945e+06</td>\n",
       "    </tr>\n",
       "    <tr>\n",
       "      <th>50%</th>\n",
       "      <td>534.500000</td>\n",
       "      <td>8.600590e+08</td>\n",
       "      <td>5.023917e+07</td>\n",
       "    </tr>\n",
       "    <tr>\n",
       "      <th>75%</th>\n",
       "      <td>801.250000</td>\n",
       "      <td>8.910851e+08</td>\n",
       "      <td>1.915863e+08</td>\n",
       "    </tr>\n",
       "    <tr>\n",
       "      <th>max</th>\n",
       "      <td>1068.000000</td>\n",
       "      <td>9.010975e+08</td>\n",
       "      <td>6.620412e+10</td>\n",
       "    </tr>\n",
       "  </tbody>\n",
       "</table>\n",
       "</div>"
      ],
      "text/plain": [
       "               No.           NIT  GANANCIA (PERDIDA) 2017\n",
       "count  1068.000000  1.068000e+03             1.067000e+03\n",
       "mean    534.500000  8.590699e+08             1.147441e+08\n",
       "std     308.449348  3.782354e+07             5.226753e+09\n",
       "min       1.000000  8.000003e+08            -7.977997e+10\n",
       "25%     267.750000  8.300113e+08             2.899945e+06\n",
       "50%     534.500000  8.600590e+08             5.023917e+07\n",
       "75%     801.250000  8.910851e+08             1.915863e+08\n",
       "max    1068.000000  9.010975e+08             6.620412e+10"
      ]
     },
     "execution_count": 5,
     "metadata": {},
     "output_type": "execute_result"
    }
   ],
   "source": [
    "print(\"Variables numéricas: \\n\")\n",
    "df.describe()"
   ]
  },
  {
   "cell_type": "code",
   "execution_count": 6,
   "metadata": {},
   "outputs": [
    {
     "name": "stdout",
     "output_type": "stream",
     "text": [
      "\n",
      "Número de filas con valores nulos:  30\n",
      "Número de columnas con valores nulos:  13\n",
      "Lista de columnas con valores núlos y sus tipos: \n",
      " REGIÓN                             True\n",
      "DEPARTAMENTO DOMICILIO             True\n",
      "CIUDAD DOMICILIO                   True\n",
      "CIIU                               True\n",
      "MACROSECTOR                        True\n",
      "INGRESOS OPERACIONALES\\r\\n2018*    True\n",
      "GANANCIA (PERDIDA) 2018            True\n",
      "TOTAL ACTIVOS 2018                 True\n",
      "TOTAL PASIVOS 2018                 True\n",
      "TOTAL PATRIMONIO 2018              True\n",
      "INGRESOS OPERACIONALES\\r\\n2017*    True\n",
      "GANANCIA (PERDIDA) 2017            True\n",
      "TOTAL ACTIVOS 2017                 True\n",
      "dtype: bool\n",
      "\n",
      "Porcentaje de completitud de las columnas: 97.19%\n"
     ]
    }
   ],
   "source": [
    "# Ver datos núlos\n",
    "print(\"\\nNúmero de filas con valores nulos: \", df.isnull().any(axis=1).sum())\n",
    "print(\"Número de columnas con valores nulos: \", df.isnull().any().sum())\n",
    "print(\"Lista de columnas con valores núlos y sus tipos: \\n\", df.isnull().any()[df.isnull().any() == True])\n",
    "\n",
    "# Porcentaje de completitud\n",
    "print(f\"\\nPorcentaje de completitud de las columnas: {(1-(df.isnull().any(axis=1).sum()/df.shape[0]))*100:.2f}%\")"
   ]
  },
  {
   "cell_type": "code",
   "execution_count": 7,
   "metadata": {},
   "outputs": [
    {
     "name": "stdout",
     "output_type": "stream",
     "text": [
      "<class 'pandas.core.frame.DataFrame'>\n",
      "RangeIndex: 1068 entries, 0 to 1067\n",
      "Data columns (total 20 columns):\n",
      " #   Column                         Non-Null Count  Dtype  \n",
      "---  ------                         --------------  -----  \n",
      " 0   No.                            1068 non-null   int64  \n",
      " 1   NIT                            1068 non-null   int64  \n",
      " 2   RAZON SOCIAL                   1068 non-null   object \n",
      " 3   SUPERVISOR                     1068 non-null   object \n",
      " 4   REGIÓN                         1067 non-null   object \n",
      " 5   DEPARTAMENTO DOMICILIO         1063 non-null   object \n",
      " 6   CIUDAD DOMICILIO               1064 non-null   object \n",
      " 7   CIIU                           1067 non-null   object \n",
      " 8   MACROSECTOR                    1065 non-null   object \n",
      " 9   INGRESOS OPERACIONALES\n",
      "2018*  1067 non-null   object \n",
      " 10  GANANCIA (PERDIDA) 2018        1067 non-null   object \n",
      " 11  TOTAL ACTIVOS 2018             1066 non-null   object \n",
      " 12  TOTAL PASIVOS 2018             1066 non-null   object \n",
      " 13  TOTAL PATRIMONIO 2018          1064 non-null   object \n",
      " 14  INGRESOS OPERACIONALES\n",
      "2017*  1063 non-null   object \n",
      " 15  GANANCIA (PERDIDA) 2017        1067 non-null   float64\n",
      " 16  TOTAL ACTIVOS 2017             1066 non-null   object \n",
      " 17  TOTAL PASIVOS 2017             1068 non-null   object \n",
      " 18  TOTAL PATRIMONIO 2017          1068 non-null   object \n",
      " 19  GRUPO EN NIIF                  1068 non-null   object \n",
      "dtypes: float64(1), int64(2), object(17)\n",
      "memory usage: 167.0+ KB\n",
      "None\n"
     ]
    }
   ],
   "source": [
    "print(df.info())"
   ]
  },
  {
   "cell_type": "code",
   "execution_count": 8,
   "metadata": {},
   "outputs": [
    {
     "name": "stdout",
     "output_type": "stream",
     "text": [
      "\n",
      "Número de filas duplicadas:  0\n",
      "Número de filas con indice duplicado:  68\n"
     ]
    }
   ],
   "source": [
    "# Ver duplicidad de datos\n",
    "print(\"\\nNúmero de filas duplicadas: \", df.duplicated().sum())\n",
    "print(\"Número de filas con indice duplicado: \", df['NIT'].duplicated().sum())"
   ]
  },
  {
   "cell_type": "code",
   "execution_count": 9,
   "metadata": {},
   "outputs": [
    {
     "data": {
      "text/html": [
       "<div>\n",
       "<style scoped>\n",
       "    .dataframe tbody tr th:only-of-type {\n",
       "        vertical-align: middle;\n",
       "    }\n",
       "\n",
       "    .dataframe tbody tr th {\n",
       "        vertical-align: top;\n",
       "    }\n",
       "\n",
       "    .dataframe thead th {\n",
       "        text-align: right;\n",
       "    }\n",
       "</style>\n",
       "<table border=\"1\" class=\"dataframe\">\n",
       "  <thead>\n",
       "    <tr style=\"text-align: right;\">\n",
       "      <th></th>\n",
       "      <th>No.</th>\n",
       "      <th>NIT</th>\n",
       "      <th>RAZON SOCIAL</th>\n",
       "      <th>SUPERVISOR</th>\n",
       "      <th>REGIÓN</th>\n",
       "      <th>DEPARTAMENTO DOMICILIO</th>\n",
       "      <th>CIUDAD DOMICILIO</th>\n",
       "      <th>CIIU</th>\n",
       "      <th>MACROSECTOR</th>\n",
       "      <th>INGRESOS OPERACIONALES\\r\\n2018*</th>\n",
       "      <th>GANANCIA (PERDIDA) 2018</th>\n",
       "      <th>TOTAL ACTIVOS 2018</th>\n",
       "      <th>TOTAL PASIVOS 2018</th>\n",
       "      <th>TOTAL PATRIMONIO 2018</th>\n",
       "      <th>INGRESOS OPERACIONALES\\r\\n2017*</th>\n",
       "      <th>GANANCIA (PERDIDA) 2017</th>\n",
       "      <th>TOTAL ACTIVOS 2017</th>\n",
       "      <th>TOTAL PASIVOS 2017</th>\n",
       "      <th>TOTAL PATRIMONIO 2017</th>\n",
       "      <th>GRUPO EN NIIF</th>\n",
       "    </tr>\n",
       "  </thead>\n",
       "  <tbody>\n",
       "    <tr>\n",
       "      <th>318</th>\n",
       "      <td>319</td>\n",
       "      <td>800052534</td>\n",
       "      <td>DISTRIBUCIONES AXA SAS</td>\n",
       "      <td>SUPERSOCIEDADES</td>\n",
       "      <td>Bogotá - Cundinamarca</td>\n",
       "      <td>BOGOTA D.C.</td>\n",
       "      <td>BOGOTA-D.C.-BOGOTA D.C.</td>\n",
       "      <td>G4645 - Comercio al por mayor de productos far...</td>\n",
       "      <td>COMERCIO</td>\n",
       "      <td>2431623100</td>\n",
       "      <td>60163750</td>\n",
       "      <td>787302360</td>\n",
       "      <td>564013370</td>\n",
       "      <td>223288990</td>\n",
       "      <td>2199907330</td>\n",
       "      <td>43110390.0</td>\n",
       "      <td>721060330</td>\n",
       "      <td>$ 530920370</td>\n",
       "      <td>190139960</td>\n",
       "      <td>NIIF PYMES-GRUPO 2</td>\n",
       "    </tr>\n",
       "    <tr>\n",
       "      <th>1063</th>\n",
       "      <td>1064</td>\n",
       "      <td>900292211</td>\n",
       "      <td>REFINADORA NACIONAL DE ACEITES Y GRASAS SAS</td>\n",
       "      <td>SUPERSOCIEDADES</td>\n",
       "      <td>Costa Pacífica</td>\n",
       "      <td>VALLE</td>\n",
       "      <td>CANDELARIA-VALLE</td>\n",
       "      <td>C1030 - Elaboración de aceites y grasas de ori...</td>\n",
       "      <td>MANUFACTURA</td>\n",
       "      <td>1386316790</td>\n",
       "      <td>22151990</td>\n",
       "      <td>501416690</td>\n",
       "      <td>274589220</td>\n",
       "      <td>226827470</td>\n",
       "      <td>1189202740</td>\n",
       "      <td>6154480.0</td>\n",
       "      <td>646611960</td>\n",
       "      <td>$ 396936480</td>\n",
       "      <td>249675480</td>\n",
       "      <td>NIIF PLENAS-GRUPO 1</td>\n",
       "    </tr>\n",
       "    <tr>\n",
       "      <th>1065</th>\n",
       "      <td>1066</td>\n",
       "      <td>860058831</td>\n",
       "      <td>avicola los cambulos sa.</td>\n",
       "      <td>SUPERSOCIEDADES</td>\n",
       "      <td>Bogotá - Cundinamarca</td>\n",
       "      <td>BOGOTA D.C.</td>\n",
       "      <td>BOGOTA-D.C.-BOGOTA D.C.</td>\n",
       "      <td>A0145 - Cría de aves de corral</td>\n",
       "      <td>AGROPECUARIO</td>\n",
       "      <td>2485960390</td>\n",
       "      <td>18906280</td>\n",
       "      <td>780480300</td>\n",
       "      <td>505029030</td>\n",
       "      <td>275451270</td>\n",
       "      <td>2209342160</td>\n",
       "      <td>15342020.0</td>\n",
       "      <td>755261660</td>\n",
       "      <td>$ 487229570</td>\n",
       "      <td>268032090</td>\n",
       "      <td>NIIF PYMES-GRUPO 2</td>\n",
       "    </tr>\n",
       "    <tr>\n",
       "      <th>614</th>\n",
       "      <td>615</td>\n",
       "      <td>830131993</td>\n",
       "      <td>EFECTIVO LTDA</td>\n",
       "      <td>SUPERSOCIEDADES</td>\n",
       "      <td>Bogotá - Cundinamarca</td>\n",
       "      <td>BOGOTA D.C.</td>\n",
       "      <td>BOGOTA-D.C.-BOGOTA D.C.</td>\n",
       "      <td>H5229 - Otras actividades complementarias al t...</td>\n",
       "      <td>SERVICIOS</td>\n",
       "      <td>5200510120</td>\n",
       "      <td>483527130</td>\n",
       "      <td>3293350180</td>\n",
       "      <td>1985023190</td>\n",
       "      <td>1308326990</td>\n",
       "      <td>5166809290</td>\n",
       "      <td>374284980.0</td>\n",
       "      <td>3292129500</td>\n",
       "      <td>$ 2290473160</td>\n",
       "      <td>1001656340</td>\n",
       "      <td>NIIF PYMES-GRUPO 2</td>\n",
       "    </tr>\n",
       "    <tr>\n",
       "      <th>652</th>\n",
       "      <td>653</td>\n",
       "      <td>900818642</td>\n",
       "      <td>CONSTRUCCIONES COLOMBIANAS OHL SAS</td>\n",
       "      <td>SUPERSOCIEDADES</td>\n",
       "      <td>Bogotá - Cundinamarca</td>\n",
       "      <td>BOGOTA D.C.</td>\n",
       "      <td>BOGOTA-D.C.-BOGOTA D.C.</td>\n",
       "      <td>F4210 - Construcción de carreteras y vías de f...</td>\n",
       "      <td>CONSTRUCCIÓN</td>\n",
       "      <td>1448136230</td>\n",
       "      <td>-893997020</td>\n",
       "      <td>1996355320</td>\n",
       "      <td>1986833700</td>\n",
       "      <td>9521620</td>\n",
       "      <td>1980487340</td>\n",
       "      <td>141749450.0</td>\n",
       "      <td>1455661690</td>\n",
       "      <td>$ 1242144700</td>\n",
       "      <td>213516990</td>\n",
       "      <td>NIIF PLENAS-GRUPO 1</td>\n",
       "    </tr>\n",
       "  </tbody>\n",
       "</table>\n",
       "</div>"
      ],
      "text/plain": [
       "       No.        NIT                                 RAZON SOCIAL  \\\n",
       "318    319  800052534                       DISTRIBUCIONES AXA SAS   \n",
       "1063  1064  900292211  REFINADORA NACIONAL DE ACEITES Y GRASAS SAS   \n",
       "1065  1066  860058831                     avicola los cambulos sa.   \n",
       "614    615  830131993                                EFECTIVO LTDA   \n",
       "652    653  900818642           CONSTRUCCIONES COLOMBIANAS OHL SAS   \n",
       "\n",
       "           SUPERVISOR                 REGIÓN DEPARTAMENTO DOMICILIO  \\\n",
       "318   SUPERSOCIEDADES  Bogotá - Cundinamarca            BOGOTA D.C.   \n",
       "1063  SUPERSOCIEDADES         Costa Pacífica                  VALLE   \n",
       "1065  SUPERSOCIEDADES  Bogotá - Cundinamarca            BOGOTA D.C.   \n",
       "614   SUPERSOCIEDADES  Bogotá - Cundinamarca            BOGOTA D.C.   \n",
       "652   SUPERSOCIEDADES  Bogotá - Cundinamarca            BOGOTA D.C.   \n",
       "\n",
       "             CIUDAD DOMICILIO  \\\n",
       "318   BOGOTA-D.C.-BOGOTA D.C.   \n",
       "1063         CANDELARIA-VALLE   \n",
       "1065  BOGOTA-D.C.-BOGOTA D.C.   \n",
       "614   BOGOTA-D.C.-BOGOTA D.C.   \n",
       "652   BOGOTA-D.C.-BOGOTA D.C.   \n",
       "\n",
       "                                                   CIIU   MACROSECTOR  \\\n",
       "318   G4645 - Comercio al por mayor de productos far...      COMERCIO   \n",
       "1063  C1030 - Elaboración de aceites y grasas de ori...   MANUFACTURA   \n",
       "1065                     A0145 - Cría de aves de corral  AGROPECUARIO   \n",
       "614   H5229 - Otras actividades complementarias al t...     SERVICIOS   \n",
       "652   F4210 - Construcción de carreteras y vías de f...  CONSTRUCCIÓN   \n",
       "\n",
       "     INGRESOS OPERACIONALES\\r\\n2018* GANANCIA (PERDIDA) 2018  \\\n",
       "318                       2431623100                60163750   \n",
       "1063                      1386316790                22151990   \n",
       "1065                      2485960390                18906280   \n",
       "614                       5200510120               483527130   \n",
       "652                       1448136230              -893997020   \n",
       "\n",
       "     TOTAL ACTIVOS 2018 TOTAL PASIVOS 2018 TOTAL PATRIMONIO 2018  \\\n",
       "318           787302360          564013370             223288990   \n",
       "1063          501416690          274589220             226827470   \n",
       "1065          780480300          505029030             275451270   \n",
       "614          3293350180         1985023190            1308326990   \n",
       "652          1996355320         1986833700               9521620   \n",
       "\n",
       "     INGRESOS OPERACIONALES\\r\\n2017*  GANANCIA (PERDIDA) 2017  \\\n",
       "318                       2199907330               43110390.0   \n",
       "1063                      1189202740                6154480.0   \n",
       "1065                      2209342160               15342020.0   \n",
       "614                       5166809290              374284980.0   \n",
       "652                       1980487340              141749450.0   \n",
       "\n",
       "     TOTAL ACTIVOS 2017 TOTAL PASIVOS 2017 TOTAL PATRIMONIO 2017  \\\n",
       "318           721060330        $ 530920370             190139960   \n",
       "1063          646611960        $ 396936480             249675480   \n",
       "1065          755261660        $ 487229570             268032090   \n",
       "614          3292129500       $ 2290473160            1001656340   \n",
       "652          1455661690       $ 1242144700             213516990   \n",
       "\n",
       "            GRUPO EN NIIF  \n",
       "318    NIIF PYMES-GRUPO 2  \n",
       "1063  NIIF PLENAS-GRUPO 1  \n",
       "1065   NIIF PYMES-GRUPO 2  \n",
       "614    NIIF PYMES-GRUPO 2  \n",
       "652   NIIF PLENAS-GRUPO 1  "
      ]
     },
     "execution_count": 9,
     "metadata": {},
     "output_type": "execute_result"
    }
   ],
   "source": [
    "df.sample(5)"
   ]
  },
  {
   "cell_type": "markdown",
   "metadata": {},
   "source": [
    "## Razon Social, NIT y No."
   ]
  },
  {
   "cell_type": "code",
   "execution_count": 10,
   "metadata": {},
   "outputs": [
    {
     "name": "stdout",
     "output_type": "stream",
     "text": [
      "Número de filas:  1000\n"
     ]
    }
   ],
   "source": [
    "# Como se encontraron duplicados en la variable NIT, se procede a eliminarlos\n",
    "df.drop_duplicates(subset='NIT', inplace=True)\n",
    "print(\"Número de filas: \", df.shape[0])\n",
    "\n",
    "# Se elimina la columna 'Razon social' y 'No.' ya que no aportan información relevante\n",
    "df = df.drop(['RAZON SOCIAL', 'No.', 'NIT'], axis=1)"
   ]
  },
  {
   "cell_type": "markdown",
   "metadata": {},
   "source": [
    "## Supervisor"
   ]
  },
  {
   "cell_type": "code",
   "execution_count": 11,
   "metadata": {},
   "outputs": [
    {
     "data": {
      "text/plain": [
       "SUPERSOCIEDADES    892\n",
       "SUPERSALUD          42\n",
       "SUPERFINANCIERA     38\n",
       "SUPERSERVICIOS      16\n",
       "SUPERVIGILANCIA      8\n",
       "SUPERSUCIEDADES      4\n",
       "Name: SUPERVISOR, dtype: int64"
      ]
     },
     "execution_count": 11,
     "metadata": {},
     "output_type": "execute_result"
    }
   ],
   "source": [
    "# Dar valores únicos de columna supervisor\n",
    "df['SUPERVISOR'].value_counts(dropna=False)"
   ]
  },
  {
   "cell_type": "code",
   "execution_count": 12,
   "metadata": {},
   "outputs": [
    {
     "data": {
      "text/plain": [
       "<matplotlib.axes._subplots.AxesSubplot at 0x144ae624d60>"
      ]
     },
     "execution_count": 12,
     "metadata": {},
     "output_type": "execute_result"
    },
    {
     "data": {
      "image/png": "[encoded data removed]",
      "text/plain": [
       "<Figure size 1080x576 with 1 Axes>"
      ]
     },
     "metadata": {
      "needs_background": "light"
     },
     "output_type": "display_data"
    }
   ],
   "source": [
    "# En la coluna 'SUPERVISOR' se reemplazan los valores 'SUPERSUCIEDADES' por 'SUPERSOCIEDADES'\n",
    "df['SUPERVISOR'] = df['SUPERVISOR'].replace('SUPERSUCIEDADES', 'SUPERSOCIEDADES')\n",
    "# Graficar valores de la columna 'SUPERVISOR'\n",
    "plt.figure(figsize=(15,8))\n",
    "sns.countplot(x='SUPERVISOR', data=df)"
   ]
  },
  {
   "cell_type": "code",
   "execution_count": 13,
   "metadata": {},
   "outputs": [],
   "source": [
    "# One hot encoder para la columna supervisor\n",
    "from random import sample\n",
    "df = pd.get_dummies(df, columns=['SUPERVISOR'], prefix=['SUPERVISOR'])"
   ]
  },
  {
   "cell_type": "markdown",
   "metadata": {},
   "source": [
    "## Región"
   ]
  },
  {
   "cell_type": "code",
   "execution_count": 14,
   "metadata": {},
   "outputs": [
    {
     "data": {
      "text/plain": [
       "Bogotá - Cundinamarca    555\n",
       "Antioquia                161\n",
       "Costa Pacífica           126\n",
       "Costa Atlántica           94\n",
       "Centro - Oriente          30\n",
       "Eje Cafetero              22\n",
       "Otros                      7\n",
       "Costa Atlantica            4\n",
       "NaN                        1\n",
       "Name: REGIÓN, dtype: int64"
      ]
     },
     "execution_count": 14,
     "metadata": {},
     "output_type": "execute_result"
    }
   ],
   "source": [
    "# Dar valores únicos de columna región\n",
    "df['REGIÓN'].value_counts(dropna=False)"
   ]
  },
  {
   "cell_type": "code",
   "execution_count": 15,
   "metadata": {},
   "outputs": [
    {
     "data": {
      "text/plain": [
       "Bogotá - Cundinamarca    556\n",
       "Antioquia                161\n",
       "Costa Pacífica           126\n",
       "Costa Atlantica           98\n",
       "Otros                     59\n",
       "Name: REGIÓN, dtype: int64"
      ]
     },
     "execution_count": 15,
     "metadata": {},
     "output_type": "execute_result"
    }
   ],
   "source": [
    "# Se cambian valores núlos de la columna 'REGIÓN' por la moda\n",
    "df['REGIÓN'] = df['REGIÓN'].fillna(df['REGIÓN'].mode()[0])\n",
    "\n",
    "# En la columna 'REGIÓN' se reemplazan los valores 'Costa Atlántica' por 'Costa Atlantica'\n",
    "df['REGIÓN'] = df['REGIÓN'].replace('Costa Atlántica', 'Costa Atlantica')\n",
    "\n",
    "# En la columna región, dados los pocos valores para 'Eje Cafetero' y 'Centro - Oriente', se agrupan en una nueva categoría 'Otros'\n",
    "df['REGIÓN'] = df['REGIÓN'].replace(['Eje Cafetero', 'Centro - Oriente'], 'Otros')\n",
    "\n",
    "# Dar valores únicos de columna región\n",
    "df['REGIÓN'].value_counts(dropna=False)"
   ]
  },
  {
   "cell_type": "code",
   "execution_count": 16,
   "metadata": {},
   "outputs": [
    {
     "data": {
      "text/plain": [
       "<matplotlib.axes._subplots.AxesSubplot at 0x144ad74bcd0>"
      ]
     },
     "execution_count": 16,
     "metadata": {},
     "output_type": "execute_result"
    },
    {
     "data": {
      "image/png": "[encoded data removed]",
      "text/plain": [
       "<Figure size 1080x576 with 1 Axes>"
      ]
     },
     "metadata": {
      "needs_background": "light"
     },
     "output_type": "display_data"
    }
   ],
   "source": [
    "# Graficar valores de la columna 'REGIÓN'\n",
    "plt.figure(figsize=(15,8))\n",
    "sns.countplot(x='REGIÓN', data=df)"
   ]
  },
  {
   "cell_type": "code",
   "execution_count": 17,
   "metadata": {},
   "outputs": [
    {
     "data": {
      "text/html": [
       "<div>\n",
       "<style scoped>\n",
       "    .dataframe tbody tr th:only-of-type {\n",
       "        vertical-align: middle;\n",
       "    }\n",
       "\n",
       "    .dataframe tbody tr th {\n",
       "        vertical-align: top;\n",
       "    }\n",
       "\n",
       "    .dataframe thead th {\n",
       "        text-align: right;\n",
       "    }\n",
       "</style>\n",
       "<table border=\"1\" class=\"dataframe\">\n",
       "  <thead>\n",
       "    <tr style=\"text-align: right;\">\n",
       "      <th></th>\n",
       "      <th>DEPARTAMENTO DOMICILIO</th>\n",
       "      <th>CIUDAD DOMICILIO</th>\n",
       "      <th>CIIU</th>\n",
       "      <th>MACROSECTOR</th>\n",
       "      <th>INGRESOS OPERACIONALES\\r\\n2018*</th>\n",
       "      <th>GANANCIA (PERDIDA) 2018</th>\n",
       "      <th>TOTAL ACTIVOS 2018</th>\n",
       "      <th>TOTAL PASIVOS 2018</th>\n",
       "      <th>TOTAL PATRIMONIO 2018</th>\n",
       "      <th>INGRESOS OPERACIONALES\\r\\n2017*</th>\n",
       "      <th>GANANCIA (PERDIDA) 2017</th>\n",
       "      <th>TOTAL ACTIVOS 2017</th>\n",
       "      <th>TOTAL PASIVOS 2017</th>\n",
       "      <th>TOTAL PATRIMONIO 2017</th>\n",
       "      <th>GRUPO EN NIIF</th>\n",
       "      <th>SUPERVISOR_SUPERFINANCIERA</th>\n",
       "      <th>SUPERVISOR_SUPERSALUD</th>\n",
       "      <th>SUPERVISOR_SUPERSERVICIOS</th>\n",
       "      <th>SUPERVISOR_SUPERSOCIEDADES</th>\n",
       "      <th>SUPERVISOR_SUPERVIGILANCIA</th>\n",
       "      <th>REGION_Antioquia</th>\n",
       "      <th>REGION_Bogotá - Cundinamarca</th>\n",
       "      <th>REGION_Costa Atlantica</th>\n",
       "      <th>REGION_Costa Pacífica</th>\n",
       "      <th>REGION_Otros</th>\n",
       "    </tr>\n",
       "  </thead>\n",
       "  <tbody>\n",
       "    <tr>\n",
       "      <th>984</th>\n",
       "      <td>ATLANTICO</td>\n",
       "      <td>BARRANQUILLA-ATLANTICO</td>\n",
       "      <td>H4930 - Transporte por tuberías</td>\n",
       "      <td>SERVICIOS</td>\n",
       "      <td>11975174030</td>\n",
       "      <td>7254085770</td>\n",
       "      <td>63558409630</td>\n",
       "      <td>31429655390</td>\n",
       "      <td>32128754240</td>\n",
       "      <td>10121527250</td>\n",
       "      <td>6.488579e+09</td>\n",
       "      <td>59315353430</td>\n",
       "      <td>$ 29690891160</td>\n",
       "      <td>29624462270</td>\n",
       "      <td>NIIF PLENAS-GRUPO 1</td>\n",
       "      <td>0</td>\n",
       "      <td>0</td>\n",
       "      <td>1</td>\n",
       "      <td>0</td>\n",
       "      <td>0</td>\n",
       "      <td>0</td>\n",
       "      <td>0</td>\n",
       "      <td>1</td>\n",
       "      <td>0</td>\n",
       "      <td>0</td>\n",
       "    </tr>\n",
       "    <tr>\n",
       "      <th>260</th>\n",
       "      <td>SANTANDER</td>\n",
       "      <td>BUCARAMANGA-SANTANDER</td>\n",
       "      <td>N7820 - Actividades de agencias de empleo temp...</td>\n",
       "      <td>SERVICIOS</td>\n",
       "      <td>1652314330</td>\n",
       "      <td>14094320</td>\n",
       "      <td>308170510</td>\n",
       "      <td>183853070</td>\n",
       "      <td>124317440</td>\n",
       "      <td>1600648680</td>\n",
       "      <td>1.600304e+07</td>\n",
       "      <td>283427790</td>\n",
       "      <td>$ 165636120</td>\n",
       "      <td>117791670</td>\n",
       "      <td>NIIF PYMES-GRUPO 2</td>\n",
       "      <td>0</td>\n",
       "      <td>0</td>\n",
       "      <td>0</td>\n",
       "      <td>1</td>\n",
       "      <td>0</td>\n",
       "      <td>0</td>\n",
       "      <td>0</td>\n",
       "      <td>0</td>\n",
       "      <td>0</td>\n",
       "      <td>1</td>\n",
       "    </tr>\n",
       "    <tr>\n",
       "      <th>99</th>\n",
       "      <td>ANTIOQUIA</td>\n",
       "      <td>MEDELLIN-ANTIOQUIA</td>\n",
       "      <td>G4511 - Comercio de vehículos automotores nuevos</td>\n",
       "      <td>COMERCIO</td>\n",
       "      <td>1581724850</td>\n",
       "      <td>17603060</td>\n",
       "      <td>367394080</td>\n",
       "      <td>314842270</td>\n",
       "      <td>52551810</td>\n",
       "      <td>1356034030</td>\n",
       "      <td>4.054880e+06</td>\n",
       "      <td>418582150</td>\n",
       "      <td>$ 383633400</td>\n",
       "      <td>34948750</td>\n",
       "      <td>NIIF PYMES-GRUPO 2</td>\n",
       "      <td>0</td>\n",
       "      <td>0</td>\n",
       "      <td>0</td>\n",
       "      <td>1</td>\n",
       "      <td>0</td>\n",
       "      <td>1</td>\n",
       "      <td>0</td>\n",
       "      <td>0</td>\n",
       "      <td>0</td>\n",
       "      <td>0</td>\n",
       "    </tr>\n",
       "    <tr>\n",
       "      <th>456</th>\n",
       "      <td>ANTIOQUIA</td>\n",
       "      <td>ENVIGADO-ANTIOQUIA</td>\n",
       "      <td>G4711 - Comercio al por menor en establecimien...</td>\n",
       "      <td>COMERCIO</td>\n",
       "      <td>2268837740</td>\n",
       "      <td>194230</td>\n",
       "      <td>783256220</td>\n",
       "      <td>668218910</td>\n",
       "      <td>115037310</td>\n",
       "      <td>1733342180</td>\n",
       "      <td>-1.486690e+06</td>\n",
       "      <td>548145670</td>\n",
       "      <td>$ 433302600</td>\n",
       "      <td>114843070</td>\n",
       "      <td>NIIF PYMES-GRUPO 2</td>\n",
       "      <td>0</td>\n",
       "      <td>0</td>\n",
       "      <td>0</td>\n",
       "      <td>1</td>\n",
       "      <td>0</td>\n",
       "      <td>1</td>\n",
       "      <td>0</td>\n",
       "      <td>0</td>\n",
       "      <td>0</td>\n",
       "      <td>0</td>\n",
       "    </tr>\n",
       "    <tr>\n",
       "      <th>113</th>\n",
       "      <td>CAUCA</td>\n",
       "      <td>PUERTO-TEJADA-CAUCA</td>\n",
       "      <td>C1709 - Fabricación de otros artículos de pape...</td>\n",
       "      <td>MANUFACTURA</td>\n",
       "      <td>3476583450</td>\n",
       "      <td>181802660</td>\n",
       "      <td>3751856300</td>\n",
       "      <td>1014275330</td>\n",
       "      <td>2737580970</td>\n",
       "      <td>2933234810</td>\n",
       "      <td>1.523174e+08</td>\n",
       "      <td>4100643480</td>\n",
       "      <td>$ 1346864930</td>\n",
       "      <td>2753778550</td>\n",
       "      <td>NIIF PLENAS-GRUPO 1</td>\n",
       "      <td>0</td>\n",
       "      <td>0</td>\n",
       "      <td>0</td>\n",
       "      <td>1</td>\n",
       "      <td>0</td>\n",
       "      <td>0</td>\n",
       "      <td>0</td>\n",
       "      <td>0</td>\n",
       "      <td>1</td>\n",
       "      <td>0</td>\n",
       "    </tr>\n",
       "  </tbody>\n",
       "</table>\n",
       "</div>"
      ],
      "text/plain": [
       "    DEPARTAMENTO DOMICILIO        CIUDAD DOMICILIO  \\\n",
       "984              ATLANTICO  BARRANQUILLA-ATLANTICO   \n",
       "260              SANTANDER   BUCARAMANGA-SANTANDER   \n",
       "99               ANTIOQUIA      MEDELLIN-ANTIOQUIA   \n",
       "456              ANTIOQUIA      ENVIGADO-ANTIOQUIA   \n",
       "113                  CAUCA     PUERTO-TEJADA-CAUCA   \n",
       "\n",
       "                                                  CIIU  MACROSECTOR  \\\n",
       "984                    H4930 - Transporte por tuberías    SERVICIOS   \n",
       "260  N7820 - Actividades de agencias de empleo temp...    SERVICIOS   \n",
       "99    G4511 - Comercio de vehículos automotores nuevos     COMERCIO   \n",
       "456  G4711 - Comercio al por menor en establecimien...     COMERCIO   \n",
       "113  C1709 - Fabricación de otros artículos de pape...  MANUFACTURA   \n",
       "\n",
       "    INGRESOS OPERACIONALES\\r\\n2018* GANANCIA (PERDIDA) 2018  \\\n",
       "984                     11975174030              7254085770   \n",
       "260                      1652314330                14094320   \n",
       "99                       1581724850                17603060   \n",
       "456                      2268837740                  194230   \n",
       "113                      3476583450               181802660   \n",
       "\n",
       "    TOTAL ACTIVOS 2018 TOTAL PASIVOS 2018 TOTAL PATRIMONIO 2018  \\\n",
       "984        63558409630        31429655390           32128754240   \n",
       "260          308170510          183853070             124317440   \n",
       "99           367394080          314842270              52551810   \n",
       "456          783256220          668218910             115037310   \n",
       "113         3751856300         1014275330            2737580970   \n",
       "\n",
       "    INGRESOS OPERACIONALES\\r\\n2017*  GANANCIA (PERDIDA) 2017  \\\n",
       "984                     10121527250             6.488579e+09   \n",
       "260                      1600648680             1.600304e+07   \n",
       "99                       1356034030             4.054880e+06   \n",
       "456                      1733342180            -1.486690e+06   \n",
       "113                      2933234810             1.523174e+08   \n",
       "\n",
       "    TOTAL ACTIVOS 2017 TOTAL PASIVOS 2017 TOTAL PATRIMONIO 2017  \\\n",
       "984        59315353430      $ 29690891160           29624462270   \n",
       "260          283427790        $ 165636120             117791670   \n",
       "99           418582150        $ 383633400              34948750   \n",
       "456          548145670        $ 433302600             114843070   \n",
       "113         4100643480       $ 1346864930            2753778550   \n",
       "\n",
       "           GRUPO EN NIIF  SUPERVISOR_SUPERFINANCIERA  SUPERVISOR_SUPERSALUD  \\\n",
       "984  NIIF PLENAS-GRUPO 1                           0                      0   \n",
       "260   NIIF PYMES-GRUPO 2                           0                      0   \n",
       "99    NIIF PYMES-GRUPO 2                           0                      0   \n",
       "456   NIIF PYMES-GRUPO 2                           0                      0   \n",
       "113  NIIF PLENAS-GRUPO 1                           0                      0   \n",
       "\n",
       "     SUPERVISOR_SUPERSERVICIOS  SUPERVISOR_SUPERSOCIEDADES  \\\n",
       "984                          1                           0   \n",
       "260                          0                           1   \n",
       "99                           0                           1   \n",
       "456                          0                           1   \n",
       "113                          0                           1   \n",
       "\n",
       "     SUPERVISOR_SUPERVIGILANCIA  REGION_Antioquia  \\\n",
       "984                           0                 0   \n",
       "260                           0                 0   \n",
       "99                            0                 1   \n",
       "456                           0                 1   \n",
       "113                           0                 0   \n",
       "\n",
       "     REGION_Bogotá - Cundinamarca  REGION_Costa Atlantica  \\\n",
       "984                             0                       1   \n",
       "260                             0                       0   \n",
       "99                              0                       0   \n",
       "456                             0                       0   \n",
       "113                             0                       0   \n",
       "\n",
       "     REGION_Costa Pacífica  REGION_Otros  \n",
       "984                      0             0  \n",
       "260                      0             1  \n",
       "99                       0             0  \n",
       "456                      0             0  \n",
       "113                      1             0  "
      ]
     },
     "execution_count": 17,
     "metadata": {},
     "output_type": "execute_result"
    }
   ],
   "source": [
    "# One hot encoder para la columna región\n",
    "df = pd.get_dummies(df, columns=['REGIÓN'], prefix=['REGION'])\n",
    "df.sample(5)"
   ]
  },
  {
   "cell_type": "markdown",
   "metadata": {},
   "source": [
    "## Departamento y Ciudad Domicilio"
   ]
  },
  {
   "cell_type": "code",
   "execution_count": 18,
   "metadata": {},
   "outputs": [
    {
     "data": {
      "text/plain": [
       "BOGOTA D.C.                 478\n",
       "ANTIOQUIA                   160\n",
       "VALLE                       105\n",
       "CUNDINAMARCA                 70\n",
       "ATLANTICO                    58\n",
       "SANTANDER                    25\n",
       "BOLIVAR                      23\n",
       "CAUCA                        15\n",
       "RISARALDA                    11\n",
       "CALDAS                       10\n",
       "MAGDALENA                     7\n",
       "BOGOTÁ D.C.                   6\n",
       "NaN                           5\n",
       "CORDOBA                       4\n",
       "NORTE DE SANTANDER            4\n",
       "NARIÑO                        4\n",
       "HUILA                         2\n",
       "GUAJIRA                       2\n",
       "TOLIMA                        2\n",
       "META                          2\n",
       "BOYACA                        1\n",
       "CHOCO                         1\n",
       "CESAR                         1\n",
       "SAN ANDRES Y PROVIDENCIA      1\n",
       "SUCRE                         1\n",
       "QUINDIO                       1\n",
       "CASANARE                      1\n",
       "Name: DEPARTAMENTO DOMICILIO, dtype: int64"
      ]
     },
     "execution_count": 18,
     "metadata": {},
     "output_type": "execute_result"
    }
   ],
   "source": [
    "# Dar valores únicos de columna región\n",
    "df['DEPARTAMENTO DOMICILIO'].value_counts(dropna=False)"
   ]
  },
  {
   "cell_type": "code",
   "execution_count": 19,
   "metadata": {},
   "outputs": [],
   "source": [
    "# Dado el pequeño número de datos por cada categoría de departamento y la correlación con la columna 'CIUDAD DOMICILIO' y 'REGIÓN', se elimina la columna 'DEPARTAMENTO DOMICILIO' y 'CIUDAD DOMICILIO'\n",
    "df = df.drop(['DEPARTAMENTO DOMICILIO', 'CIUDAD DOMICILIO'], axis=1)"
   ]
  },
  {
   "cell_type": "markdown",
   "metadata": {},
   "source": [
    "## CIIU"
   ]
  },
  {
   "cell_type": "code",
   "execution_count": 20,
   "metadata": {},
   "outputs": [
    {
     "data": {
      "text/plain": [
       "G4511 - Comercio de vehículos automotores nuevos                                                                                                              42\n",
       "G4645 - Comercio al por mayor de productos farmacéuticos, medicinales, cosméticos y de tocador                                                                33\n",
       "O8430- Actividades de planes de seguridad social de afiliacion obligatoria                                                                                    25\n",
       "F4111 - Construcción de edificios residenciales                                                                                                               24\n",
       "G4661 - Comercio al por mayor de combustibles sólidos, líquidos, gaseosos y productos conexos                                                                 23\n",
       "                                                                                                                                                              ..\n",
       "M6920 - Actividades de contabilidad, teneduría de libros, auditoría financiera y asesoría tributaria                                                           1\n",
       "C1513 - Fabricación de artículos de viaje, bolsos de mano y artículos similares; artículos de talabartería y guarnicionería elaborados en otros materiales     1\n",
       "C1083 - Elaboración de macarrones, fideos, alcuzcuz y productos farináceos similares                                                                           1\n",
       "G4643 - Comercio al por mayor de calzado                                                                                                                       1\n",
       "NaN                                                                                                                                                            1\n",
       "Name: CIIU, Length: 196, dtype: int64"
      ]
     },
     "execution_count": 20,
     "metadata": {},
     "output_type": "execute_result"
    }
   ],
   "source": [
    "# Dar valores únicos de columna CIUU\n",
    "df['CIIU'].value_counts(dropna=False)"
   ]
  },
  {
   "cell_type": "code",
   "execution_count": 21,
   "metadata": {},
   "outputs": [],
   "source": [
    "# Dada la redundancia con la columna 'MACROSECTOR' y la cantidad de datos distintos, se elimina la columna 'CIIU'\n",
    "df = df.drop(['CIIU'], axis=1)"
   ]
  },
  {
   "cell_type": "markdown",
   "metadata": {},
   "source": [
    "## Macrosector"
   ]
  },
  {
   "cell_type": "code",
   "execution_count": 22,
   "metadata": {},
   "outputs": [
    {
     "data": {
      "text/plain": [
       "MANUFACTURA             328\n",
       "COMERCIO                301\n",
       "SERVICIOS               225\n",
       "CONSTRUCCIÓN             63\n",
       "MINERO-HIDROCARBUROS     54\n",
       "AGROPECUARIO             23\n",
       "CONSTRUCCION              3\n",
       "NaN                       3\n",
       "Name: MACROSECTOR, dtype: int64"
      ]
     },
     "execution_count": 22,
     "metadata": {},
     "output_type": "execute_result"
    }
   ],
   "source": [
    "# Dar valores únicos de columna Macrosector\n",
    "df['MACROSECTOR'].value_counts(dropna=False)"
   ]
  },
  {
   "cell_type": "code",
   "execution_count": 23,
   "metadata": {},
   "outputs": [
    {
     "data": {
      "text/plain": [
       "MANUFACTURA             331\n",
       "COMERCIO                301\n",
       "SERVICIOS               225\n",
       "CONSTRUCCION             66\n",
       "MINERO-HIDROCARBUROS     54\n",
       "AGROPECUARIO             23\n",
       "Name: MACROSECTOR, dtype: int64"
      ]
     },
     "execution_count": 23,
     "metadata": {},
     "output_type": "execute_result"
    }
   ],
   "source": [
    "# Se cambian valores núlos de la columna 'MACROSECTOR' por la moda\n",
    "df['MACROSECTOR'] = df['MACROSECTOR'].fillna(df['MACROSECTOR'].mode()[0])\n",
    "\n",
    "# En la columna MACROSECTOR, se remplazan los valores 'CONSTRUCCIÓN' por 'CONSTRUCCION'\n",
    "df['MACROSECTOR'] = df['MACROSECTOR'].replace('CONSTRUCCIÓN', 'CONSTRUCCION')\n",
    "\n",
    "df['MACROSECTOR'].value_counts()"
   ]
  },
  {
   "cell_type": "code",
   "execution_count": 24,
   "metadata": {},
   "outputs": [
    {
     "data": {
      "text/plain": [
       "<matplotlib.axes._subplots.AxesSubplot at 0x144d05dd640>"
      ]
     },
     "execution_count": 24,
     "metadata": {},
     "output_type": "execute_result"
    },
    {
     "data": {
      "image/png": "[encoded data removed]",
      "text/plain": [
       "<Figure size 1080x576 with 1 Axes>"
      ]
     },
     "metadata": {
      "needs_background": "light"
     },
     "output_type": "display_data"
    }
   ],
   "source": [
    "# Graficar valores de la columna 'MACROSECTOR'\n",
    "plt.figure(figsize=(15,8))\n",
    "sns.countplot(x='MACROSECTOR', data=df)"
   ]
  },
  {
   "cell_type": "code",
   "execution_count": 25,
   "metadata": {},
   "outputs": [
    {
     "data": {
      "text/html": [
       "<div>\n",
       "<style scoped>\n",
       "    .dataframe tbody tr th:only-of-type {\n",
       "        vertical-align: middle;\n",
       "    }\n",
       "\n",
       "    .dataframe tbody tr th {\n",
       "        vertical-align: top;\n",
       "    }\n",
       "\n",
       "    .dataframe thead th {\n",
       "        text-align: right;\n",
       "    }\n",
       "</style>\n",
       "<table border=\"1\" class=\"dataframe\">\n",
       "  <thead>\n",
       "    <tr style=\"text-align: right;\">\n",
       "      <th></th>\n",
       "      <th>INGRESOS OPERACIONALES\\r\\n2018*</th>\n",
       "      <th>GANANCIA (PERDIDA) 2018</th>\n",
       "      <th>TOTAL ACTIVOS 2018</th>\n",
       "      <th>TOTAL PASIVOS 2018</th>\n",
       "      <th>TOTAL PATRIMONIO 2018</th>\n",
       "      <th>INGRESOS OPERACIONALES\\r\\n2017*</th>\n",
       "      <th>GANANCIA (PERDIDA) 2017</th>\n",
       "      <th>TOTAL ACTIVOS 2017</th>\n",
       "      <th>TOTAL PASIVOS 2017</th>\n",
       "      <th>TOTAL PATRIMONIO 2017</th>\n",
       "      <th>GRUPO EN NIIF</th>\n",
       "      <th>SUPERVISOR_SUPERFINANCIERA</th>\n",
       "      <th>...</th>\n",
       "      <th>SUPERVISOR_SUPERVIGILANCIA</th>\n",
       "      <th>REGION_Antioquia</th>\n",
       "      <th>REGION_Bogotá - Cundinamarca</th>\n",
       "      <th>REGION_Costa Atlantica</th>\n",
       "      <th>REGION_Costa Pacífica</th>\n",
       "      <th>REGION_Otros</th>\n",
       "      <th>MACROSECTOR_AGROPECUARIO</th>\n",
       "      <th>MACROSECTOR_COMERCIO</th>\n",
       "      <th>MACROSECTOR_CONSTRUCCION</th>\n",
       "      <th>MACROSECTOR_MANUFACTURA</th>\n",
       "      <th>MACROSECTOR_MINERO-HIDROCARBUROS</th>\n",
       "      <th>MACROSECTOR_SERVICIOS</th>\n",
       "    </tr>\n",
       "  </thead>\n",
       "  <tbody>\n",
       "    <tr>\n",
       "      <th>219</th>\n",
       "      <td>3720462540</td>\n",
       "      <td>59078120</td>\n",
       "      <td>1841074840</td>\n",
       "      <td>432262270</td>\n",
       "      <td>1408812570</td>\n",
       "      <td>3591680010</td>\n",
       "      <td>-57876990.0</td>\n",
       "      <td>1706871000</td>\n",
       "      <td>$ 357136550</td>\n",
       "      <td>1349734450</td>\n",
       "      <td>NIIF PLENAS-GRUPO 1</td>\n",
       "      <td>0</td>\n",
       "      <td>...</td>\n",
       "      <td>0</td>\n",
       "      <td>0</td>\n",
       "      <td>0</td>\n",
       "      <td>1</td>\n",
       "      <td>0</td>\n",
       "      <td>0</td>\n",
       "      <td>0</td>\n",
       "      <td>0</td>\n",
       "      <td>0</td>\n",
       "      <td>1</td>\n",
       "      <td>0</td>\n",
       "      <td>0</td>\n",
       "    </tr>\n",
       "    <tr>\n",
       "      <th>153</th>\n",
       "      <td>3012803520</td>\n",
       "      <td>22869980</td>\n",
       "      <td>1934777480</td>\n",
       "      <td>1542020370</td>\n",
       "      <td>392757110</td>\n",
       "      <td>3035006120</td>\n",
       "      <td>12018160.0</td>\n",
       "      <td>1810006610</td>\n",
       "      <td>$ 1440119470</td>\n",
       "      <td>369887140</td>\n",
       "      <td>NIIF PYMES-GRUPO 2</td>\n",
       "      <td>0</td>\n",
       "      <td>...</td>\n",
       "      <td>0</td>\n",
       "      <td>1</td>\n",
       "      <td>0</td>\n",
       "      <td>0</td>\n",
       "      <td>0</td>\n",
       "      <td>0</td>\n",
       "      <td>0</td>\n",
       "      <td>1</td>\n",
       "      <td>0</td>\n",
       "      <td>0</td>\n",
       "      <td>0</td>\n",
       "      <td>0</td>\n",
       "    </tr>\n",
       "  </tbody>\n",
       "</table>\n",
       "<p>2 rows × 27 columns</p>\n",
       "</div>"
      ],
      "text/plain": [
       "    INGRESOS OPERACIONALES\\r\\n2018* GANANCIA (PERDIDA) 2018  \\\n",
       "219                      3720462540                59078120   \n",
       "153                      3012803520                22869980   \n",
       "\n",
       "    TOTAL ACTIVOS 2018 TOTAL PASIVOS 2018 TOTAL PATRIMONIO 2018  \\\n",
       "219         1841074840          432262270            1408812570   \n",
       "153         1934777480         1542020370             392757110   \n",
       "\n",
       "    INGRESOS OPERACIONALES\\r\\n2017*  GANANCIA (PERDIDA) 2017  \\\n",
       "219                      3591680010              -57876990.0   \n",
       "153                      3035006120               12018160.0   \n",
       "\n",
       "    TOTAL ACTIVOS 2017 TOTAL PASIVOS 2017 TOTAL PATRIMONIO 2017  \\\n",
       "219         1706871000        $ 357136550            1349734450   \n",
       "153         1810006610       $ 1440119470             369887140   \n",
       "\n",
       "           GRUPO EN NIIF  SUPERVISOR_SUPERFINANCIERA  ...  \\\n",
       "219  NIIF PLENAS-GRUPO 1                           0  ...   \n",
       "153   NIIF PYMES-GRUPO 2                           0  ...   \n",
       "\n",
       "     SUPERVISOR_SUPERVIGILANCIA  REGION_Antioquia  \\\n",
       "219                           0                 0   \n",
       "153                           0                 1   \n",
       "\n",
       "     REGION_Bogotá - Cundinamarca  REGION_Costa Atlantica  \\\n",
       "219                             0                       1   \n",
       "153                             0                       0   \n",
       "\n",
       "     REGION_Costa Pacífica  REGION_Otros  MACROSECTOR_AGROPECUARIO  \\\n",
       "219                      0             0                         0   \n",
       "153                      0             0                         0   \n",
       "\n",
       "     MACROSECTOR_COMERCIO  MACROSECTOR_CONSTRUCCION  MACROSECTOR_MANUFACTURA  \\\n",
       "219                     0                         0                        1   \n",
       "153                     1                         0                        0   \n",
       "\n",
       "     MACROSECTOR_MINERO-HIDROCARBUROS  MACROSECTOR_SERVICIOS  \n",
       "219                                 0                      0  \n",
       "153                                 0                      0  \n",
       "\n",
       "[2 rows x 27 columns]"
      ]
     },
     "execution_count": 25,
     "metadata": {},
     "output_type": "execute_result"
    }
   ],
   "source": [
    "# One hot encoder para la columna MACROSECTOR\n",
    "df = pd.get_dummies(df, columns=['MACROSECTOR'], prefix=['MACROSECTOR'])\n",
    "df.sample(2)"
   ]
  },
  {
   "cell_type": "markdown",
   "metadata": {},
   "source": [
    "## Total activos, total pasivos, y total patrimonio"
   ]
  },
  {
   "cell_type": "code",
   "execution_count": 26,
   "metadata": {},
   "outputs": [],
   "source": [
    "# Dado que los activos son iguales a la suma de los pasivos y el patrimonio, se procede a eliminar las columnas de estos dos últimos\n",
    "df = df.drop(['TOTAL PASIVOS 2018', 'TOTAL PATRIMONIO 2018', 'TOTAL PASIVOS 2017', 'TOTAL PATRIMONIO 2017'], axis=1)"
   ]
  },
  {
   "cell_type": "code",
   "execution_count": 27,
   "metadata": {},
   "outputs": [],
   "source": [
    "# Cambiar columna 'TOTAL ACTIVOS 2017' a tipo numérico\n",
    "df['TOTAL ACTIVOS 2017'] = pd.to_numeric(df['TOTAL ACTIVOS 2017'], errors='coerce')\n",
    "# Cambiar nulos por la media\n",
    "df['TOTAL ACTIVOS 2017'] = df['TOTAL ACTIVOS 2017'].fillna(df['TOTAL ACTIVOS 2017'].mean())"
   ]
  },
  {
   "cell_type": "code",
   "execution_count": 28,
   "metadata": {},
   "outputs": [],
   "source": [
    "# Cambiar columna 'TOTAL ACTIVOS 2018' a tipo numérico\n",
    "df['TOTAL ACTIVOS 2018'] = pd.to_numeric(df['TOTAL ACTIVOS 2018'], errors='coerce')\n",
    "# Cambiar nulos por la media\n",
    "df['TOTAL ACTIVOS 2018'] = df['TOTAL ACTIVOS 2018'].fillna(df['TOTAL ACTIVOS 2018'].mean())\n"
   ]
  },
  {
   "cell_type": "code",
   "execution_count": 29,
   "metadata": {},
   "outputs": [
    {
     "data": {
      "text/plain": [
       "count    1000.000000\n",
       "mean        0.278988\n",
       "std         1.377705\n",
       "min        -0.923522\n",
       "25%         0.007419\n",
       "50%         0.088950\n",
       "75%         0.207616\n",
       "max        21.880655\n",
       "Name: VARIACION ACTIVOS, dtype: float64"
      ]
     },
     "execution_count": 29,
     "metadata": {},
     "output_type": "execute_result"
    }
   ],
   "source": [
    "# Crear columna con el porcentaje de variación de los activos\n",
    "df['VARIACION ACTIVOS'] = (df['TOTAL ACTIVOS 2018'] - df['TOTAL ACTIVOS 2017']) / df['TOTAL ACTIVOS 2017']\n",
    "# Eliminar columnas de activos\n",
    "df = df.drop(['TOTAL ACTIVOS 2017', 'TOTAL ACTIVOS 2018'], axis=1)\n",
    "# Estadisticas descriptivas de la columna 'VARIACION ACTIVOS'\n",
    "df['VARIACION ACTIVOS'].describe()"
   ]
  },
  {
   "cell_type": "code",
   "execution_count": 30,
   "metadata": {},
   "outputs": [
    {
     "data": {
      "text/plain": [
       "<matplotlib.axes._subplots.AxesSubplot at 0x144d0817040>"
      ]
     },
     "execution_count": 30,
     "metadata": {},
     "output_type": "execute_result"
    },
    {
     "data": {
      "image/png": "[encoded data removed]",
      "text/plain": [
       "<Figure size 1080x576 with 1 Axes>"
      ]
     },
     "metadata": {
      "needs_background": "light"
     },
     "output_type": "display_data"
    }
   ],
   "source": [
    "# Eliminar datos atípicos de la columna 'VARIACION ACTIVOS'\n",
    "df = df[df['VARIACION ACTIVOS'] < 3]\n",
    "# Se grafica la distribución (curva) de la columna 'VARIACION ACTIVOS'\n",
    "plt.figure(figsize=(15,8))\n",
    "sns.distplot(df['VARIACION ACTIVOS'])"
   ]
  },
  {
   "cell_type": "markdown",
   "metadata": {},
   "source": [
    "## Ingresos operacionales y Ganancia (Perdida)"
   ]
  },
  {
   "cell_type": "code",
   "execution_count": 31,
   "metadata": {},
   "outputs": [],
   "source": [
    "# Dada la redundancia en la información entre Ingresos Operacionales, Ganancia (Perdida), y Activos, se deciden eliminar dos. Se considera que los activos miden mejor el crecimiento económico de la empresa, por lo que se eliminan los ingresos operacionales y la ganancia (perdida)\n",
    "df = df.drop(['INGRESOS OPERACIONALES\\r\\n2018*', 'GANANCIA (PERDIDA) 2018', 'INGRESOS OPERACIONALES\\r\\n2017*', 'GANANCIA (PERDIDA) 2017'], axis=1)"
   ]
  },
  {
   "cell_type": "markdown",
   "metadata": {},
   "source": [
    "## Grupo en NIIF"
   ]
  },
  {
   "cell_type": "code",
   "execution_count": 32,
   "metadata": {},
   "outputs": [
    {
     "name": "stdout",
     "output_type": "stream",
     "text": [
      "NIIF PLENAS-GRUPO 1            751\n",
      "NIIF PYMES-GRUPO 2             227\n",
      "REGIMEN R 414 de 2014 - CGN      8\n",
      "Name: GRUPO EN NIIF, dtype: int64\n"
     ]
    },
    {
     "data": {
      "text/plain": [
       "<matplotlib.axes._subplots.AxesSubplot at 0x144d07e1dc0>"
      ]
     },
     "execution_count": 32,
     "metadata": {},
     "output_type": "execute_result"
    },
    {
     "data": {
      "image/png": "[encoded data removed]",
      "text/plain": [
       "<Figure size 1080x576 with 1 Axes>"
      ]
     },
     "metadata": {
      "needs_background": "light"
     },
     "output_type": "display_data"
    }
   ],
   "source": [
    "# Contar valores únicos de la columna 'GRUPO EN NIIF'\n",
    "print(df['GRUPO EN NIIF'].value_counts(dropna=False))\n",
    "\n",
    "# Graficar valores de la columna 'GRUPO EN NIIF'\n",
    "plt.figure(figsize=(15,8))\n",
    "sns.countplot(x='GRUPO EN NIIF', data=df)"
   ]
  },
  {
   "cell_type": "code",
   "execution_count": 33,
   "metadata": {},
   "outputs": [],
   "source": [
    "# Dadas las restricciones de las funciones a utilizar para implementar los modelos de clasificación, se procede a convertir los valores de la columna 'GRUPO EN NIIF' a númericos\n",
    "# Se crea un diccionario con los valores de la columna 'GRUPO EN NIIF' y sus respectivos valores numéricos\n",
    "# Se organizan de menor a mayor según el tamaño de las empresas\n",
    "grupo_nif_numerico = {'REGIMEN R 414 de 2014 - CGN':1, 'NIIF PYMES-GRUPO 2': 2, 'NIIF PLENAS-GRUPO 1': 3}\n",
    "df['GRUPO EN NIIF'] = df['GRUPO EN NIIF'].replace(grupo_nif_numerico)"
   ]
  },
  {
   "cell_type": "markdown",
   "metadata": {},
   "source": [
    "## Resúmen de datos procesados"
   ]
  },
  {
   "cell_type": "code",
   "execution_count": 34,
   "metadata": {},
   "outputs": [
    {
     "name": "stdout",
     "output_type": "stream",
     "text": [
      "<class 'pandas.core.frame.DataFrame'>\n",
      "Int64Index: 986 entries, 0 to 1067\n",
      "Data columns (total 18 columns):\n",
      " #   Column                            Non-Null Count  Dtype  \n",
      "---  ------                            --------------  -----  \n",
      " 0   GRUPO EN NIIF                     986 non-null    int64  \n",
      " 1   SUPERVISOR_SUPERFINANCIERA        986 non-null    uint8  \n",
      " 2   SUPERVISOR_SUPERSALUD             986 non-null    uint8  \n",
      " 3   SUPERVISOR_SUPERSERVICIOS         986 non-null    uint8  \n",
      " 4   SUPERVISOR_SUPERSOCIEDADES        986 non-null    uint8  \n",
      " 5   SUPERVISOR_SUPERVIGILANCIA        986 non-null    uint8  \n",
      " 6   REGION_Antioquia                  986 non-null    uint8  \n",
      " 7   REGION_Bogotá - Cundinamarca      986 non-null    uint8  \n",
      " 8   REGION_Costa Atlantica            986 non-null    uint8  \n",
      " 9   REGION_Costa Pacífica             986 non-null    uint8  \n",
      " 10  REGION_Otros                      986 non-null    uint8  \n",
      " 11  MACROSECTOR_AGROPECUARIO          986 non-null    uint8  \n",
      " 12  MACROSECTOR_COMERCIO              986 non-null    uint8  \n",
      " 13  MACROSECTOR_CONSTRUCCION          986 non-null    uint8  \n",
      " 14  MACROSECTOR_MANUFACTURA           986 non-null    uint8  \n",
      " 15  MACROSECTOR_MINERO-HIDROCARBUROS  986 non-null    uint8  \n",
      " 16  MACROSECTOR_SERVICIOS             986 non-null    uint8  \n",
      " 17  VARIACION ACTIVOS                 986 non-null    float64\n",
      "dtypes: float64(1), int64(1), uint8(16)\n",
      "memory usage: 78.5 KB\n",
      "None\n"
     ]
    }
   ],
   "source": [
    "print(df.info())"
   ]
  },
  {
   "cell_type": "code",
   "execution_count": 35,
   "metadata": {},
   "outputs": [
    {
     "data": {
      "text/html": [
       "<div>\n",
       "<style scoped>\n",
       "    .dataframe tbody tr th:only-of-type {\n",
       "        vertical-align: middle;\n",
       "    }\n",
       "\n",
       "    .dataframe tbody tr th {\n",
       "        vertical-align: top;\n",
       "    }\n",
       "\n",
       "    .dataframe thead th {\n",
       "        text-align: right;\n",
       "    }\n",
       "</style>\n",
       "<table border=\"1\" class=\"dataframe\">\n",
       "  <thead>\n",
       "    <tr style=\"text-align: right;\">\n",
       "      <th></th>\n",
       "      <th>GRUPO EN NIIF</th>\n",
       "      <th>SUPERVISOR_SUPERFINANCIERA</th>\n",
       "      <th>SUPERVISOR_SUPERSALUD</th>\n",
       "      <th>SUPERVISOR_SUPERSERVICIOS</th>\n",
       "      <th>SUPERVISOR_SUPERSOCIEDADES</th>\n",
       "      <th>SUPERVISOR_SUPERVIGILANCIA</th>\n",
       "      <th>REGION_Antioquia</th>\n",
       "      <th>REGION_Bogotá - Cundinamarca</th>\n",
       "      <th>REGION_Costa Atlantica</th>\n",
       "      <th>REGION_Costa Pacífica</th>\n",
       "      <th>REGION_Otros</th>\n",
       "      <th>MACROSECTOR_AGROPECUARIO</th>\n",
       "      <th>MACROSECTOR_COMERCIO</th>\n",
       "      <th>MACROSECTOR_CONSTRUCCION</th>\n",
       "      <th>MACROSECTOR_MANUFACTURA</th>\n",
       "      <th>MACROSECTOR_MINERO-HIDROCARBUROS</th>\n",
       "      <th>MACROSECTOR_SERVICIOS</th>\n",
       "      <th>VARIACION ACTIVOS</th>\n",
       "    </tr>\n",
       "  </thead>\n",
       "  <tbody>\n",
       "    <tr>\n",
       "      <th>count</th>\n",
       "      <td>986.000000</td>\n",
       "      <td>986.000000</td>\n",
       "      <td>986.000000</td>\n",
       "      <td>986.000000</td>\n",
       "      <td>986.000000</td>\n",
       "      <td>986.000000</td>\n",
       "      <td>986.000000</td>\n",
       "      <td>986.000000</td>\n",
       "      <td>986.000000</td>\n",
       "      <td>986.000000</td>\n",
       "      <td>986.000000</td>\n",
       "      <td>986.000000</td>\n",
       "      <td>986.000000</td>\n",
       "      <td>986.000000</td>\n",
       "      <td>986.000000</td>\n",
       "      <td>986.000000</td>\n",
       "      <td>986.000000</td>\n",
       "      <td>986.000000</td>\n",
       "    </tr>\n",
       "    <tr>\n",
       "      <th>mean</th>\n",
       "      <td>2.753550</td>\n",
       "      <td>0.038540</td>\n",
       "      <td>0.038540</td>\n",
       "      <td>0.016227</td>\n",
       "      <td>0.902637</td>\n",
       "      <td>0.004057</td>\n",
       "      <td>0.162272</td>\n",
       "      <td>0.553753</td>\n",
       "      <td>0.097363</td>\n",
       "      <td>0.127789</td>\n",
       "      <td>0.058824</td>\n",
       "      <td>0.023327</td>\n",
       "      <td>0.304260</td>\n",
       "      <td>0.066937</td>\n",
       "      <td>0.333671</td>\n",
       "      <td>0.053753</td>\n",
       "      <td>0.218053</td>\n",
       "      <td>0.131846</td>\n",
       "    </tr>\n",
       "    <tr>\n",
       "      <th>std</th>\n",
       "      <td>0.449605</td>\n",
       "      <td>0.192593</td>\n",
       "      <td>0.192593</td>\n",
       "      <td>0.126412</td>\n",
       "      <td>0.296602</td>\n",
       "      <td>0.063596</td>\n",
       "      <td>0.368887</td>\n",
       "      <td>0.497355</td>\n",
       "      <td>0.296602</td>\n",
       "      <td>0.334024</td>\n",
       "      <td>0.235414</td>\n",
       "      <td>0.151015</td>\n",
       "      <td>0.460327</td>\n",
       "      <td>0.250040</td>\n",
       "      <td>0.471763</td>\n",
       "      <td>0.225643</td>\n",
       "      <td>0.413133</td>\n",
       "      <td>0.287880</td>\n",
       "    </tr>\n",
       "    <tr>\n",
       "      <th>min</th>\n",
       "      <td>1.000000</td>\n",
       "      <td>0.000000</td>\n",
       "      <td>0.000000</td>\n",
       "      <td>0.000000</td>\n",
       "      <td>0.000000</td>\n",
       "      <td>0.000000</td>\n",
       "      <td>0.000000</td>\n",
       "      <td>0.000000</td>\n",
       "      <td>0.000000</td>\n",
       "      <td>0.000000</td>\n",
       "      <td>0.000000</td>\n",
       "      <td>0.000000</td>\n",
       "      <td>0.000000</td>\n",
       "      <td>0.000000</td>\n",
       "      <td>0.000000</td>\n",
       "      <td>0.000000</td>\n",
       "      <td>0.000000</td>\n",
       "      <td>-0.923522</td>\n",
       "    </tr>\n",
       "    <tr>\n",
       "      <th>25%</th>\n",
       "      <td>3.000000</td>\n",
       "      <td>0.000000</td>\n",
       "      <td>0.000000</td>\n",
       "      <td>0.000000</td>\n",
       "      <td>1.000000</td>\n",
       "      <td>0.000000</td>\n",
       "      <td>0.000000</td>\n",
       "      <td>0.000000</td>\n",
       "      <td>0.000000</td>\n",
       "      <td>0.000000</td>\n",
       "      <td>0.000000</td>\n",
       "      <td>0.000000</td>\n",
       "      <td>0.000000</td>\n",
       "      <td>0.000000</td>\n",
       "      <td>0.000000</td>\n",
       "      <td>0.000000</td>\n",
       "      <td>0.000000</td>\n",
       "      <td>0.006116</td>\n",
       "    </tr>\n",
       "    <tr>\n",
       "      <th>50%</th>\n",
       "      <td>3.000000</td>\n",
       "      <td>0.000000</td>\n",
       "      <td>0.000000</td>\n",
       "      <td>0.000000</td>\n",
       "      <td>1.000000</td>\n",
       "      <td>0.000000</td>\n",
       "      <td>0.000000</td>\n",
       "      <td>1.000000</td>\n",
       "      <td>0.000000</td>\n",
       "      <td>0.000000</td>\n",
       "      <td>0.000000</td>\n",
       "      <td>0.000000</td>\n",
       "      <td>0.000000</td>\n",
       "      <td>0.000000</td>\n",
       "      <td>0.000000</td>\n",
       "      <td>0.000000</td>\n",
       "      <td>0.000000</td>\n",
       "      <td>0.087002</td>\n",
       "    </tr>\n",
       "    <tr>\n",
       "      <th>75%</th>\n",
       "      <td>3.000000</td>\n",
       "      <td>0.000000</td>\n",
       "      <td>0.000000</td>\n",
       "      <td>0.000000</td>\n",
       "      <td>1.000000</td>\n",
       "      <td>0.000000</td>\n",
       "      <td>0.000000</td>\n",
       "      <td>1.000000</td>\n",
       "      <td>0.000000</td>\n",
       "      <td>0.000000</td>\n",
       "      <td>0.000000</td>\n",
       "      <td>0.000000</td>\n",
       "      <td>1.000000</td>\n",
       "      <td>0.000000</td>\n",
       "      <td>1.000000</td>\n",
       "      <td>0.000000</td>\n",
       "      <td>0.000000</td>\n",
       "      <td>0.198814</td>\n",
       "    </tr>\n",
       "    <tr>\n",
       "      <th>max</th>\n",
       "      <td>3.000000</td>\n",
       "      <td>1.000000</td>\n",
       "      <td>1.000000</td>\n",
       "      <td>1.000000</td>\n",
       "      <td>1.000000</td>\n",
       "      <td>1.000000</td>\n",
       "      <td>1.000000</td>\n",
       "      <td>1.000000</td>\n",
       "      <td>1.000000</td>\n",
       "      <td>1.000000</td>\n",
       "      <td>1.000000</td>\n",
       "      <td>1.000000</td>\n",
       "      <td>1.000000</td>\n",
       "      <td>1.000000</td>\n",
       "      <td>1.000000</td>\n",
       "      <td>1.000000</td>\n",
       "      <td>1.000000</td>\n",
       "      <td>2.629388</td>\n",
       "    </tr>\n",
       "  </tbody>\n",
       "</table>\n",
       "</div>"
      ],
      "text/plain": [
       "       GRUPO EN NIIF  SUPERVISOR_SUPERFINANCIERA  SUPERVISOR_SUPERSALUD  \\\n",
       "count     986.000000                  986.000000             986.000000   \n",
       "mean        2.753550                    0.038540               0.038540   \n",
       "std         0.449605                    0.192593               0.192593   \n",
       "min         1.000000                    0.000000               0.000000   \n",
       "25%         3.000000                    0.000000               0.000000   \n",
       "50%         3.000000                    0.000000               0.000000   \n",
       "75%         3.000000                    0.000000               0.000000   \n",
       "max         3.000000                    1.000000               1.000000   \n",
       "\n",
       "       SUPERVISOR_SUPERSERVICIOS  SUPERVISOR_SUPERSOCIEDADES  \\\n",
       "count                 986.000000                  986.000000   \n",
       "mean                    0.016227                    0.902637   \n",
       "std                     0.126412                    0.296602   \n",
       "min                     0.000000                    0.000000   \n",
       "25%                     0.000000                    1.000000   \n",
       "50%                     0.000000                    1.000000   \n",
       "75%                     0.000000                    1.000000   \n",
       "max                     1.000000                    1.000000   \n",
       "\n",
       "       SUPERVISOR_SUPERVIGILANCIA  REGION_Antioquia  \\\n",
       "count                  986.000000        986.000000   \n",
       "mean                     0.004057          0.162272   \n",
       "std                      0.063596          0.368887   \n",
       "min                      0.000000          0.000000   \n",
       "25%                      0.000000          0.000000   \n",
       "50%                      0.000000          0.000000   \n",
       "75%                      0.000000          0.000000   \n",
       "max                      1.000000          1.000000   \n",
       "\n",
       "       REGION_Bogotá - Cundinamarca  REGION_Costa Atlantica  \\\n",
       "count                    986.000000              986.000000   \n",
       "mean                       0.553753                0.097363   \n",
       "std                        0.497355                0.296602   \n",
       "min                        0.000000                0.000000   \n",
       "25%                        0.000000                0.000000   \n",
       "50%                        1.000000                0.000000   \n",
       "75%                        1.000000                0.000000   \n",
       "max                        1.000000                1.000000   \n",
       "\n",
       "       REGION_Costa Pacífica  REGION_Otros  MACROSECTOR_AGROPECUARIO  \\\n",
       "count             986.000000    986.000000                986.000000   \n",
       "mean                0.127789      0.058824                  0.023327   \n",
       "std                 0.334024      0.235414                  0.151015   \n",
       "min                 0.000000      0.000000                  0.000000   \n",
       "25%                 0.000000      0.000000                  0.000000   \n",
       "50%                 0.000000      0.000000                  0.000000   \n",
       "75%                 0.000000      0.000000                  0.000000   \n",
       "max                 1.000000      1.000000                  1.000000   \n",
       "\n",
       "       MACROSECTOR_COMERCIO  MACROSECTOR_CONSTRUCCION  \\\n",
       "count            986.000000                986.000000   \n",
       "mean               0.304260                  0.066937   \n",
       "std                0.460327                  0.250040   \n",
       "min                0.000000                  0.000000   \n",
       "25%                0.000000                  0.000000   \n",
       "50%                0.000000                  0.000000   \n",
       "75%                1.000000                  0.000000   \n",
       "max                1.000000                  1.000000   \n",
       "\n",
       "       MACROSECTOR_MANUFACTURA  MACROSECTOR_MINERO-HIDROCARBUROS  \\\n",
       "count               986.000000                        986.000000   \n",
       "mean                  0.333671                          0.053753   \n",
       "std                   0.471763                          0.225643   \n",
       "min                   0.000000                          0.000000   \n",
       "25%                   0.000000                          0.000000   \n",
       "50%                   0.000000                          0.000000   \n",
       "75%                   1.000000                          0.000000   \n",
       "max                   1.000000                          1.000000   \n",
       "\n",
       "       MACROSECTOR_SERVICIOS  VARIACION ACTIVOS  \n",
       "count             986.000000         986.000000  \n",
       "mean                0.218053           0.131846  \n",
       "std                 0.413133           0.287880  \n",
       "min                 0.000000          -0.923522  \n",
       "25%                 0.000000           0.006116  \n",
       "50%                 0.000000           0.087002  \n",
       "75%                 0.000000           0.198814  \n",
       "max                 1.000000           2.629388  "
      ]
     },
     "execution_count": 35,
     "metadata": {},
     "output_type": "execute_result"
    }
   ],
   "source": [
    "df.describe()"
   ]
  },
  {
   "cell_type": "markdown",
   "metadata": {},
   "source": [
    "## Reportes automáticos"
   ]
  },
  {
   "cell_type": "code",
   "execution_count": null,
   "metadata": {},
   "outputs": [],
   "source": [
    "import pandas_profiling\n",
    "\n",
    "profiling = pandas_profiling.ProfileReport(df, title=\"Profiling Report ConsultAndes\")\n",
    "profiling.to_notebook_iframe()"
   ]
  },
  {
   "cell_type": "code",
   "execution_count": null,
   "metadata": {},
   "outputs": [],
   "source": [
    "profiling.to_file(\"consultAndes_profile.html\")"
   ]
  },
  {
   "cell_type": "markdown",
   "metadata": {},
   "source": [
    "## Almacenar datos procesados en un archivo CSV"
   ]
  },
  {
   "cell_type": "code",
   "execution_count": null,
   "metadata": {},
   "outputs": [],
   "source": [
    "from pathlib import Path\n",
    "\n",
    "try:\n",
    "    filepath = Path('data/processed_data.csv')\n",
    "    df.to_csv(filepath, index=False)\n",
    "    print(\"Archivo guardado exitosamente\")\n",
    "except:\n",
    "    print(\"Error al guardar el archivo\")"
   ]
  }
 ],
 "metadata": {
  "kernelspec": {
   "display_name": "Python 3.8.2 64-bit",
   "language": "python",
   "name": "python3"
  },
  "language_info": {
   "codemirror_mode": {
    "name": "ipython",
    "version": 3
   },
   "file_extension": ".py",
   "mimetype": "text/x-python",
   "name": "python",
   "nbconvert_exporter": "python",
   "pygments_lexer": "ipython3",
   "version": "3.8.2"
  },
  "orig_nbformat": 4,
  "vscode": {
   "interpreter": {
    "hash": "d397f2d306bc8cb307a3d6478a3d7fe049e7cfdf3d1e3bb864494cb1e1a86ef9"
   }
  }
 },
 "nbformat": 4,
 "nbformat_minor": 2
}

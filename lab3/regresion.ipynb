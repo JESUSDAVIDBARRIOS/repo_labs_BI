{
 "cells": [
  {
   "cell_type": "markdown",
   "metadata": {},
   "source": [
    "## Carga de librerías"
   ]
  },
  {
   "cell_type": "code",
   "execution_count": 98,
   "metadata": {},
   "outputs": [],
   "source": [
    "seed = 161\n",
    "import pandas as pd\n",
    "import numpy as np\n",
    "import matplotlib.pyplot as plt\n",
    "import seaborn as sns\n",
    "\n",
    "from sklearn.model_selection import train_test_split\n",
    "from sklearn.preprocessing import StandardScaler\n",
    "\n",
    "# Regresion lineal\n",
    "from sklearn.linear_model import LinearRegression\n",
    "\n",
    "# Importar/ Exportar modelos\n",
    "from joblib import dump, load\n",
    "\n",
    "# Metricas\n",
    "from sklearn.metrics import mean_squared_error as mse\n",
    "from sklearn.metrics import mean_absolute_percentage_error\n",
    "\n",
    "# q-q plots\n",
    "import scipy.stats as stats"
   ]
  },
  {
   "cell_type": "markdown",
   "metadata": {},
   "source": [
    "## Carga de datos y creación dataframe"
   ]
  },
  {
   "cell_type": "code",
   "execution_count": 99,
   "metadata": {},
   "outputs": [
    {
     "name": "stdout",
     "output_type": "stream",
     "text": [
      "Número de filas:  1492\n",
      "Número de columnas:  8\n"
     ]
    },
    {
     "data": {
      "text/html": [
       "<div>\n",
       "<style scoped>\n",
       "    .dataframe tbody tr th:only-of-type {\n",
       "        vertical-align: middle;\n",
       "    }\n",
       "\n",
       "    .dataframe tbody tr th {\n",
       "        vertical-align: top;\n",
       "    }\n",
       "\n",
       "    .dataframe thead th {\n",
       "        text-align: right;\n",
       "    }\n",
       "</style>\n",
       "<table border=\"1\" class=\"dataframe\">\n",
       "  <thead>\n",
       "    <tr style=\"text-align: right;\">\n",
       "      <th></th>\n",
       "      <th>GRE Score</th>\n",
       "      <th>TOEFL Score</th>\n",
       "      <th>University Rating</th>\n",
       "      <th>SOP</th>\n",
       "      <th>LOR</th>\n",
       "      <th>CGPA</th>\n",
       "      <th>Research</th>\n",
       "      <th>Admission Points</th>\n",
       "    </tr>\n",
       "  </thead>\n",
       "  <tbody>\n",
       "    <tr>\n",
       "      <th>227</th>\n",
       "      <td>287</td>\n",
       "      <td>100</td>\n",
       "      <td>3</td>\n",
       "      <td>2.50</td>\n",
       "      <td>3.00</td>\n",
       "      <td>7.45</td>\n",
       "      <td>0</td>\n",
       "      <td>52.00</td>\n",
       "    </tr>\n",
       "    <tr>\n",
       "      <th>427</th>\n",
       "      <td>323</td>\n",
       "      <td>116</td>\n",
       "      <td>3</td>\n",
       "      <td>4.81</td>\n",
       "      <td>4.51</td>\n",
       "      <td>8.25</td>\n",
       "      <td>1</td>\n",
       "      <td>86.43</td>\n",
       "    </tr>\n",
       "    <tr>\n",
       "      <th>51</th>\n",
       "      <td>299</td>\n",
       "      <td>115</td>\n",
       "      <td>2</td>\n",
       "      <td>1.01</td>\n",
       "      <td>2.35</td>\n",
       "      <td>7.59</td>\n",
       "      <td>0</td>\n",
       "      <td>43.62</td>\n",
       "    </tr>\n",
       "    <tr>\n",
       "      <th>960</th>\n",
       "      <td>320</td>\n",
       "      <td>110</td>\n",
       "      <td>4</td>\n",
       "      <td>4.35</td>\n",
       "      <td>3.96</td>\n",
       "      <td>8.95</td>\n",
       "      <td>1</td>\n",
       "      <td>85.50</td>\n",
       "    </tr>\n",
       "    <tr>\n",
       "      <th>973</th>\n",
       "      <td>295</td>\n",
       "      <td>119</td>\n",
       "      <td>2</td>\n",
       "      <td>2.97</td>\n",
       "      <td>3.47</td>\n",
       "      <td>9.60</td>\n",
       "      <td>0</td>\n",
       "      <td>46.00</td>\n",
       "    </tr>\n",
       "  </tbody>\n",
       "</table>\n",
       "</div>"
      ],
      "text/plain": [
       "     GRE Score  TOEFL Score  University Rating   SOP  LOR   CGPA  Research  \\\n",
       "227        287          100                  3  2.50  3.00  7.45         0   \n",
       "427        323          116                  3  4.81  4.51  8.25         1   \n",
       "51         299          115                  2  1.01  2.35  7.59         0   \n",
       "960        320          110                  4  4.35  3.96  8.95         1   \n",
       "973        295          119                  2  2.97  3.47  9.60         0   \n",
       "\n",
       "     Admission Points  \n",
       "227             52.00  \n",
       "427             86.43  \n",
       "51              43.62  \n",
       "960             85.50  \n",
       "973             46.00  "
      ]
     },
     "execution_count": 99,
     "metadata": {},
     "output_type": "execute_result"
    }
   ],
   "source": [
    "ruta = 'data/processed_data.csv'\n",
    "df = pd.read_csv(ruta)\n",
    "print(\"Número de filas: \", df.shape[0])\n",
    "print(\"Número de columnas: \", df.shape[1])\n",
    "df.sample(5)"
   ]
  },
  {
   "cell_type": "markdown",
   "metadata": {},
   "source": [
    "### Estandarización de datos"
   ]
  },
  {
   "cell_type": "code",
   "execution_count": 100,
   "metadata": {},
   "outputs": [
    {
     "data": {
      "text/html": [
       "<div>\n",
       "<style scoped>\n",
       "    .dataframe tbody tr th:only-of-type {\n",
       "        vertical-align: middle;\n",
       "    }\n",
       "\n",
       "    .dataframe tbody tr th {\n",
       "        vertical-align: top;\n",
       "    }\n",
       "\n",
       "    .dataframe thead th {\n",
       "        text-align: right;\n",
       "    }\n",
       "</style>\n",
       "<table border=\"1\" class=\"dataframe\">\n",
       "  <thead>\n",
       "    <tr style=\"text-align: right;\">\n",
       "      <th></th>\n",
       "      <th>GRE Score</th>\n",
       "      <th>TOEFL Score</th>\n",
       "      <th>University Rating</th>\n",
       "      <th>SOP</th>\n",
       "      <th>LOR</th>\n",
       "      <th>CGPA</th>\n",
       "      <th>Research</th>\n",
       "      <th>Admission Points</th>\n",
       "    </tr>\n",
       "  </thead>\n",
       "  <tbody>\n",
       "    <tr>\n",
       "      <th>count</th>\n",
       "      <td>1492.000000</td>\n",
       "      <td>1492.000000</td>\n",
       "      <td>1492.000000</td>\n",
       "      <td>1492.000000</td>\n",
       "      <td>1492.000000</td>\n",
       "      <td>1492.000000</td>\n",
       "      <td>1492.000000</td>\n",
       "      <td>1492.000000</td>\n",
       "    </tr>\n",
       "    <tr>\n",
       "      <th>mean</th>\n",
       "      <td>0.610081</td>\n",
       "      <td>0.637846</td>\n",
       "      <td>0.465985</td>\n",
       "      <td>0.592972</td>\n",
       "      <td>0.602602</td>\n",
       "      <td>0.586552</td>\n",
       "      <td>0.465818</td>\n",
       "      <td>0.511277</td>\n",
       "    </tr>\n",
       "    <tr>\n",
       "      <th>std</th>\n",
       "      <td>0.214492</td>\n",
       "      <td>0.244508</td>\n",
       "      <td>0.308972</td>\n",
       "      <td>0.247917</td>\n",
       "      <td>0.241887</td>\n",
       "      <td>0.211527</td>\n",
       "      <td>0.498997</td>\n",
       "      <td>0.291625</td>\n",
       "    </tr>\n",
       "    <tr>\n",
       "      <th>min</th>\n",
       "      <td>0.000000</td>\n",
       "      <td>0.000000</td>\n",
       "      <td>0.000000</td>\n",
       "      <td>0.000000</td>\n",
       "      <td>0.000000</td>\n",
       "      <td>0.000000</td>\n",
       "      <td>0.000000</td>\n",
       "      <td>0.000000</td>\n",
       "    </tr>\n",
       "    <tr>\n",
       "      <th>25%</th>\n",
       "      <td>0.493976</td>\n",
       "      <td>0.529412</td>\n",
       "      <td>0.250000</td>\n",
       "      <td>0.397590</td>\n",
       "      <td>0.409000</td>\n",
       "      <td>0.433901</td>\n",
       "      <td>0.000000</td>\n",
       "      <td>0.222222</td>\n",
       "    </tr>\n",
       "    <tr>\n",
       "      <th>50%</th>\n",
       "      <td>0.626506</td>\n",
       "      <td>0.666667</td>\n",
       "      <td>0.500000</td>\n",
       "      <td>0.598394</td>\n",
       "      <td>0.600000</td>\n",
       "      <td>0.583770</td>\n",
       "      <td>0.000000</td>\n",
       "      <td>0.523810</td>\n",
       "    </tr>\n",
       "    <tr>\n",
       "      <th>75%</th>\n",
       "      <td>0.774096</td>\n",
       "      <td>0.823529</td>\n",
       "      <td>0.750000</td>\n",
       "      <td>0.799197</td>\n",
       "      <td>0.800000</td>\n",
       "      <td>0.769634</td>\n",
       "      <td>1.000000</td>\n",
       "      <td>0.793651</td>\n",
       "    </tr>\n",
       "    <tr>\n",
       "      <th>max</th>\n",
       "      <td>1.000000</td>\n",
       "      <td>1.000000</td>\n",
       "      <td>1.000000</td>\n",
       "      <td>1.000000</td>\n",
       "      <td>1.000000</td>\n",
       "      <td>1.000000</td>\n",
       "      <td>1.000000</td>\n",
       "      <td>1.000000</td>\n",
       "    </tr>\n",
       "  </tbody>\n",
       "</table>\n",
       "</div>"
      ],
      "text/plain": [
       "         GRE Score  TOEFL Score  University Rating          SOP         LOR   \\\n",
       "count  1492.000000  1492.000000        1492.000000  1492.000000  1492.000000   \n",
       "mean      0.610081     0.637846           0.465985     0.592972     0.602602   \n",
       "std       0.214492     0.244508           0.308972     0.247917     0.241887   \n",
       "min       0.000000     0.000000           0.000000     0.000000     0.000000   \n",
       "25%       0.493976     0.529412           0.250000     0.397590     0.409000   \n",
       "50%       0.626506     0.666667           0.500000     0.598394     0.600000   \n",
       "75%       0.774096     0.823529           0.750000     0.799197     0.800000   \n",
       "max       1.000000     1.000000           1.000000     1.000000     1.000000   \n",
       "\n",
       "              CGPA     Research  Admission Points  \n",
       "count  1492.000000  1492.000000       1492.000000  \n",
       "mean      0.586552     0.465818          0.511277  \n",
       "std       0.211527     0.498997          0.291625  \n",
       "min       0.000000     0.000000          0.000000  \n",
       "25%       0.433901     0.000000          0.222222  \n",
       "50%       0.583770     0.000000          0.523810  \n",
       "75%       0.769634     1.000000          0.793651  \n",
       "max       1.000000     1.000000          1.000000  "
      ]
     },
     "execution_count": 100,
     "metadata": {},
     "output_type": "execute_result"
    }
   ],
   "source": [
    "df = (df-df.min())/(df.max()-df.min())\n",
    "df.describe()"
   ]
  },
  {
   "cell_type": "markdown",
   "metadata": {},
   "source": [
    "## Creación del modelo"
   ]
  },
  {
   "cell_type": "code",
   "execution_count": 1,
   "metadata": {},
   "outputs": [
    {
     "ename": "NameError",
     "evalue": "name 'df' is not defined",
     "output_type": "error",
     "traceback": [
      "\u001b[1;31m---------------------------------------------------------------------------\u001b[0m",
      "\u001b[1;31mNameError\u001b[0m                                 Traceback (most recent call last)",
      "Cell \u001b[1;32mIn [1], line 1\u001b[0m\n\u001b[1;32m----> 1\u001b[0m df\u001b[39m.\u001b[39mdropna(subset\u001b[39m=\u001b[39m[\u001b[39m'\u001b[39m\u001b[39mAdmission Points\u001b[39m\u001b[39m'\u001b[39m], inplace\u001b[39m=\u001b[39m\u001b[39mTrue\u001b[39;00m)\n\u001b[0;32m      3\u001b[0m \u001b[39m# Divición variable objetivo y variables predictoras\u001b[39;00m\n\u001b[0;32m      4\u001b[0m X \u001b[39m=\u001b[39m df\u001b[39m.\u001b[39mdrop(\u001b[39m'\u001b[39m\u001b[39mAdmission Points\u001b[39m\u001b[39m'\u001b[39m, axis\u001b[39m=\u001b[39m\u001b[39m1\u001b[39m)\n",
      "\u001b[1;31mNameError\u001b[0m: name 'df' is not defined"
     ]
    }
   ],
   "source": [
    "# Divición variable objetivo y variables predictoras\n",
    "X = df.drop('Admission Points', axis=1)\n",
    "Y = df['Admission Points']\n",
    "\n",
    "# División datos de entrenamiento y prueba\n",
    "X_train, X_test, Y_train, Y_test = train_test_split(X, Y, test_size=0.2, random_state=0)\n",
    "\n",
    "# Creación del modelo\n",
    "model = LinearRegression()\n",
    "model.fit(X_train, Y_train)"
   ]
  },
  {
   "cell_type": "code",
   "execution_count": 102,
   "metadata": {},
   "outputs": [
    {
     "name": "stdout",
     "output_type": "stream",
     "text": [
      "Intercepto:  -0.1183142894816871\n",
      "El coeficiente para GRE Score es 0.14236603022072775\n",
      "El coeficiente para TOEFL Score es 0.07166836432596357\n",
      "El coeficiente para University Rating es 0.36864030407185977\n",
      "El coeficiente para SOP es 0.06557008012763495\n",
      "El coeficiente para LOR  es 0.051195737619014615\n",
      "El coeficiente para CGPA es 0.31249092932501377\n",
      "El coeficiente para Research es 0.16043731376997478\n"
     ]
    }
   ],
   "source": [
    "# Se imprime el intercepto de la regresión\n",
    "print(\"Intercepto: \", model.intercept_)\n",
    "# Se imprimen los coeficientes de la regresión con su respectiva variable\n",
    "for idx, col_name in enumerate(X_train.columns):\n",
    "    print(\"El coeficiente para {} es {}\".format(col_name, model.coef_[idx]))\n"
   ]
  },
  {
   "cell_type": "markdown",
   "metadata": {},
   "source": [
    "## Evaluación del modelo"
   ]
  },
  {
   "cell_type": "code",
   "execution_count": 103,
   "metadata": {},
   "outputs": [
    {
     "name": "stdout",
     "output_type": "stream",
     "text": [
      "R^2:  0.7490740337295853\n",
      "MSE:  0.020755498994224165\n",
      "MAPE:  590483688802508.2 %\n"
     ]
    }
   ],
   "source": [
    "Y_pred = model.predict(X_test)\n",
    "\n",
    "# Se imprime el coeficiente de determinación R^2\n",
    "print(\"R^2: \", model.score(X_test, Y_test))\n",
    "\n",
    "# Se imprimen las métricas de error\n",
    "print(\"MSE: \", mse(Y_test, Y_pred))"
   ]
  },
  {
   "cell_type": "markdown",
   "metadata": {},
   "source": [
    "## Exportar el modelo"
   ]
  },
  {
   "cell_type": "code",
   "execution_count": 104,
   "metadata": {},
   "outputs": [
    {
     "data": {
      "text/plain": [
       "['regresion.joblib']"
      ]
     },
     "execution_count": 104,
     "metadata": {},
     "output_type": "execute_result"
    }
   ],
   "source": [
    "# Usamos la lbreria joblib\n",
    "filename = 'regresion.joblib'\n",
    "# Se guarda\n",
    "dump(model, filename) "
   ]
  }
 ],
 "metadata": {
  "kernelspec": {
   "display_name": "Python 3.10.7 64-bit",
   "language": "python",
   "name": "python3"
  },
  "language_info": {
   "codemirror_mode": {
    "name": "ipython",
    "version": 3
   },
   "file_extension": ".py",
   "mimetype": "text/x-python",
   "name": "python",
   "nbconvert_exporter": "python",
   "pygments_lexer": "ipython3",
   "version": "3.10.7"
  },
  "orig_nbformat": 4,
  "vscode": {
   "interpreter": {
    "hash": "e9b639fc72198321bfcb12eb61301f0c348cbeb36cf1e520d85f7025353b22e0"
   }
  }
 },
 "nbformat": 4,
 "nbformat_minor": 2
}

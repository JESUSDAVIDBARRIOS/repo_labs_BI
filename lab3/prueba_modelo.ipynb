{
 "cells": [
  {
   "cell_type": "code",
   "execution_count": null,
   "metadata": {},
   "outputs": [],
   "source": [
    "import numpy as np\n",
    "import pandas as pd\n",
    "import joblib\n",
    "\n",
    "# Proceso de prubea del cliente\n",
    "filename = 'regresion.joblib' # Ubicación del archivo entregado\n",
    "df_recent = pd.read_csv('data/202220_Laboratorio_3_data_university_admission_test.csv') # Lectura de los datos recientes\n",
    "\n",
    "# Lee el archivo y carga el modelo\n",
    "pipeline = load(filename)\n",
    "\n",
    "y_true = pd.read_csv('Recientes_Validacion.csv') # La columna que solo el cliente tiene\n",
    "y_predicted =  pipeline.predict(df_recent)\n",
    "\n",
    "# Calcula el desempeño del modelo\n",
    "np.sqrt(mse(y_true, y_predicted))"
   ]
  }
 ],
 "metadata": {
  "kernelspec": {
   "display_name": "Python 3.10.0 64-bit",
   "language": "python",
   "name": "python3"
  },
  "language_info": {
   "name": "python",
   "version": "3.10.0"
  },
  "orig_nbformat": 4,
  "vscode": {
   "interpreter": {
    "hash": "afb734500600fd355917ca529030176ea0ca205570884b88f2f6f7d791fd3fbe"
   }
  }
 },
 "nbformat": 4,
 "nbformat_minor": 2
}

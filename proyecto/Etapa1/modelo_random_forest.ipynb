{
 "cells": [
  {
   "cell_type": "markdown",
   "metadata": {},
   "source": [
    "# Modelo Random Forest\n",
    "\n",
    "Implementado por Jesús David Barrios (j.barrios) - 201921887\n",
    "\n",
    "### Importar librerías y cargar datos"
   ]
  },
  {
   "cell_type": "code",
   "execution_count": 10,
   "metadata": {},
   "outputs": [],
   "source": [
    "# Pandas\n",
    "import pandas as pd\n",
    "pd.set_option('display.max_columns', 25) # Número máximo de columnas a mostrar\n",
    "pd.set_option('display.max_rows', 50) # Numero máximo de filas a mostar\n",
    "\n",
    "# Numpy\n",
    "import numpy as np\n",
    "np.random.seed(3301)\n",
    "\n",
    "# Seaborn\n",
    "import seaborn as sns \n",
    "\n",
    "# Matplolib\n",
    "%matplotlib inline\n",
    "import matplotlib.pyplot as plt\n",
    "\n",
    "# Vectorización de texto\n",
    "from sklearn.feature_extraction.text import TfidfVectorizer\n",
    "\n",
    "# Modelos\n",
    "from sklearn.model_selection import train_test_split\n",
    "from sklearn.multioutput import MultiOutputClassifier\n",
    "from sklearn.ensemble import RandomForestClassifier\n",
    "# Import SGD Classifier\n",
    "from sklearn.linear_model import SGDClassifier\n",
    "\n",
    "# Métricas\n",
    "from sklearn.metrics import accuracy_score, f1_score, precision_score, recall_score, classification_report, confusion_matrix, plot_confusion_matrix\n",
    "\n",
    "# Optimización modelo\n",
    "from sklearn.model_selection import GridSearchCV\n",
    "\n",
    "# Guardar modelo\n",
    "import joblib, pickle\n"
   ]
  },
  {
   "cell_type": "code",
   "execution_count": 11,
   "metadata": {},
   "outputs": [
    {
     "name": "stdout",
     "output_type": "stream",
     "text": [
      "Número de filas:  195700\n",
      "Número de columnas:  2\n"
     ]
    },
    {
     "data": {
      "text/html": [
       "<div>\n",
       "<style scoped>\n",
       "    .dataframe tbody tr th:only-of-type {\n",
       "        vertical-align: middle;\n",
       "    }\n",
       "\n",
       "    .dataframe tbody tr th {\n",
       "        vertical-align: top;\n",
       "    }\n",
       "\n",
       "    .dataframe thead th {\n",
       "        text-align: right;\n",
       "    }\n",
       "</style>\n",
       "<table border=\"1\" class=\"dataframe\">\n",
       "  <thead>\n",
       "    <tr style=\"text-align: right;\">\n",
       "      <th></th>\n",
       "      <th>class</th>\n",
       "      <th>tokens</th>\n",
       "    </tr>\n",
       "  </thead>\n",
       "  <tbody>\n",
       "    <tr>\n",
       "      <th>21738</th>\n",
       "      <td>0</td>\n",
       "      <td>aaa i am lit stupidest person ex lik ev comp l...</td>\n",
       "    </tr>\n",
       "    <tr>\n",
       "      <th>26627</th>\n",
       "      <td>0</td>\n",
       "      <td>is sound rain on calm sound ear Is sound rain ...</td>\n",
       "    </tr>\n",
       "    <tr>\n",
       "      <th>135198</th>\n",
       "      <td>1</td>\n",
       "      <td>how clos amam tir liv tir easy target men tran...</td>\n",
       "    </tr>\n",
       "    <tr>\n",
       "      <th>140848</th>\n",
       "      <td>0</td>\n",
       "      <td>guess kiss girl not meampxbbtw i saw post said...</td>\n",
       "    </tr>\n",
       "    <tr>\n",
       "      <th>79670</th>\n",
       "      <td>0</td>\n",
       "      <td>should i delet reddit account i mean i that is...</td>\n",
       "    </tr>\n",
       "  </tbody>\n",
       "</table>\n",
       "</div>"
      ],
      "text/plain": [
       "        class                                             tokens\n",
       "21738       0  aaa i am lit stupidest person ex lik ev comp l...\n",
       "26627       0  is sound rain on calm sound ear Is sound rain ...\n",
       "135198      1  how clos amam tir liv tir easy target men tran...\n",
       "140848      0  guess kiss girl not meampxbbtw i saw post said...\n",
       "79670       0  should i delet reddit account i mean i that is..."
      ]
     },
     "execution_count": 11,
     "metadata": {},
     "output_type": "execute_result"
    }
   ],
   "source": [
    "# Importar datos\n",
    "db_route = '../data/processed_data.csv'\n",
    "df = pd.read_csv(db_route)\n",
    "\n",
    "# Imprimir número de filas\n",
    "print('Número de filas: ', df.shape[0])\n",
    "# Imprimir número de columnas\n",
    "print('Número de columnas: ', df.shape[1])\n",
    "pd.set_option('display.max_columns', None) # Número máximo de columnas a mostrar\n",
    "\n",
    "df.sample(5)"
   ]
  },
  {
   "cell_type": "code",
   "execution_count": 14,
   "metadata": {},
   "outputs": [
    {
     "data": {
      "text/plain": [
       "class      0\n",
       "tokens    59\n",
       "dtype: int64"
      ]
     },
     "execution_count": 14,
     "metadata": {},
     "output_type": "execute_result"
    }
   ],
   "source": [
    "# Contar valores nulos\n",
    "df.isnull().sum()"
   ]
  },
  {
   "cell_type": "code",
   "execution_count": 15,
   "metadata": {},
   "outputs": [],
   "source": [
    "# Eliminar valores nulos\n",
    "df.dropna(inplace=True)"
   ]
  },
  {
   "cell_type": "markdown",
   "metadata": {},
   "source": [
    "### Separación de datos"
   ]
  },
  {
   "cell_type": "code",
   "execution_count": 16,
   "metadata": {},
   "outputs": [],
   "source": [
    "# División entre variables independientes y dependientes\n",
    "X = df['tokens']\n",
    "Y = df['class']"
   ]
  },
  {
   "cell_type": "code",
   "execution_count": 17,
   "metadata": {},
   "outputs": [],
   "source": [
    "# Vectorización de texto\n",
    "vectorizer = TfidfVectorizer(max_df=12)\n",
    "X_count = vectorizer.fit_transform(X)\n",
    "print(X_count.shape)"
   ]
  },
  {
   "cell_type": "code",
   "execution_count": 21,
   "metadata": {},
   "outputs": [],
   "source": [
    "# Separación de datos en entrenamiento y prueba\n",
    "X_train, X_test, Y_train, Y_test = train_test_split(X_count, Y, test_size=0.2, random_state=42)"
   ]
  },
  {
   "cell_type": "markdown",
   "metadata": {},
   "source": [
    "### Modelo"
   ]
  },
  {
   "cell_type": "code",
   "execution_count": 19,
   "metadata": {},
   "outputs": [],
   "source": [
    "# Parametros para GridSearchCV\n",
    "parameters = {\n",
    "    'n_estimators': [80, 100, 120],\n",
    "    'criterion' : [\"gini\", \"entropy\", \"log_loss\"]\n",
    "}"
   ]
  },
  {
   "cell_type": "code",
   "execution_count": 22,
   "metadata": {},
   "outputs": [
    {
     "name": "stdout",
     "output_type": "stream",
     "text": [
      "Fitting 5 folds for each of 9 candidates, totalling 45 fits\n"
     ]
    }
   ],
   "source": [
    "# Crear modelo\n",
    "model = RandomForestClassifier(random_state=42)\n",
    "\n",
    "# Crear modelo con GridSearchCV\n",
    "b_model = GridSearchCV(model, parameters, cv=5, n_jobs=-1, verbose=1)\n",
    "b_model\n",
    "\n",
    "# Entrenar modelo\n",
    "b_model.fit(X_train, Y_train)"
   ]
  },
  {
   "cell_type": "markdown",
   "metadata": {},
   "source": [
    "### Evaluación"
   ]
  },
  {
   "cell_type": "code",
   "execution_count": null,
   "metadata": {},
   "outputs": [],
   "source": [
    "# Predicción\n",
    "Y_pred = b_model.predict(X_test)\n",
    "\n",
    "# Evaluación del modelo\n",
    "print('Accuracy: ', accuracy_score(Y_test, Y_pred))\n",
    "print('F1: ', f1_score(Y_test, Y_pred, average='weighted'))\n",
    "print('Precision: ', precision_score(Y_test, Y_pred, average='weighted'))\n",
    "print('Recall: ', recall_score(Y_test, Y_pred, average='weighted'))\n",
    "print(classification_report(Y_test, y))"
   ]
  },
  {
   "cell_type": "code",
   "execution_count": null,
   "metadata": {},
   "outputs": [],
   "source": [
    "# Matriz de confusión\n",
    "plot_confusion_matrix(b_model, X_test, Y_test, cmap=plt.cm.Blues, normalize='true')"
   ]
  }
 ],
 "metadata": {
  "kernelspec": {
   "display_name": "Python 3.10.0 64-bit",
   "language": "python",
   "name": "python3"
  },
  "language_info": {
   "codemirror_mode": {
    "name": "ipython",
    "version": 3
   },
   "file_extension": ".py",
   "mimetype": "text/x-python",
   "name": "python",
   "nbconvert_exporter": "python",
   "pygments_lexer": "ipython3",
   "version": "3.10.0"
  },
  "orig_nbformat": 4,
  "vscode": {
   "interpreter": {
    "hash": "afb734500600fd355917ca529030176ea0ca205570884b88f2f6f7d791fd3fbe"
   }
  }
 },
 "nbformat": 4,
 "nbformat_minor": 2
}

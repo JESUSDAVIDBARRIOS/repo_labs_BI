{
 "cells": [
  {
   "cell_type": "markdown",
   "metadata": {},
   "source": [
    "### Importe de librerías\t"
   ]
  },
  {
   "cell_type": "code",
   "execution_count": null,
   "metadata": {},
   "outputs": [
    {
     "ename": "",
     "evalue": "",
     "output_type": "error",
     "traceback": [
      "\u001b[1;31mLa ejecución de celdas con 'Python 3.10.8 64-bit (microsoft store)' requieren el paquete ipykernel.\n",
      "\u001b[1;31mEjecute el siguiente comando para instalar 'ipykernel' en el entorno de Python. comando \n",
      "\u001b[1;31m: '\"c:/Program Files/WindowsApps/PythonSoftwareFoundation.Python.3.10_3.10.2288.0_x64__qbz5n2kfra8p0/python3.10.exe\" -m pip install ipykernel -U --force-reinstall'"
     ]
    }
   ],
   "source": [
    "import pandas as pd\n",
    "import numpy as np\n",
    "import matplotlib.pyplot as plt\n",
    "import seaborn as sns"
   ]
  },
  {
   "cell_type": "markdown",
   "metadata": {},
   "source": [
    "### Carga de datos"
   ]
  },
  {
   "cell_type": "code",
   "execution_count": null,
   "metadata": {},
   "outputs": [
    {
     "ename": "",
     "evalue": "",
     "output_type": "error",
     "traceback": [
      "\u001b[1;31mLa ejecución de celdas con 'Python 3.10.8 64-bit (microsoft store)' requieren el paquete ipykernel.\n",
      "\u001b[1;31mEjecute el siguiente comando para instalar 'ipykernel' en el entorno de Python. comando \n",
      "\u001b[1;31m: 'c:/Users/estudiante/AppData/Local/Microsoft/WindowsApps/python3.10.exe -m pip install ipykernel -U --force-reinstall'"
     ]
    }
   ],
   "source": [
    "# Cargar datos desde mineriaInfo.json\n",
    "df_mineria = pd.read_json('../Datos/mineriaInfo.json')\n",
    "df_mineria.sample(5)"
   ]
  },
  {
   "cell_type": "code",
   "execution_count": null,
   "metadata": {},
   "outputs": [
    {
     "ename": "",
     "evalue": "",
     "output_type": "error",
     "traceback": [
      "\u001b[1;31mLa ejecución de celdas con 'Python 3.10.8 64-bit (microsoft store)' requieren el paquete ipykernel.\n",
      "\u001b[1;31mEjecute el siguiente comando para instalar 'ipykernel' en el entorno de Python. comando \n",
      "\u001b[1;31m: 'c:/Users/estudiante/AppData/Local/Microsoft/WindowsApps/python3.10.exe -m pip install ipykernel -U --force-reinstall'"
     ]
    }
   ],
   "source": [
    "# Read xlsx file\n",
    "df_conflicto = pd.read_excel('../Datos/Conflicto Armado.xlsx')"
   ]
  },
  {
   "cell_type": "code",
   "execution_count": null,
   "metadata": {},
   "outputs": [
    {
     "ename": "",
     "evalue": "",
     "output_type": "error",
     "traceback": [
      "\u001b[1;31mLa ejecución de celdas con 'Python 3.10.8 64-bit (microsoft store)' requieren el paquete ipykernel.\n",
      "\u001b[1;31mEjecute el siguiente comando para instalar 'ipykernel' en el entorno de Python. comando \n",
      "\u001b[1;31m: 'c:/Users/estudiante/AppData/Local/Microsoft/WindowsApps/python3.10.exe -m pip install ipykernel -U --force-reinstall'"
     ]
    }
   ],
   "source": [
    "# Read xlsx file\n",
    "df_demografia = pd.read_excel('../Datos/Demografía Y Poblacion.xlsx')"
   ]
  },
  {
   "cell_type": "code",
   "execution_count": null,
   "metadata": {},
   "outputs": [
    {
     "ename": "",
     "evalue": "",
     "output_type": "error",
     "traceback": [
      "\u001b[1;31mLa ejecución de celdas con 'Python 3.10.8 64-bit (microsoft store)' requieren el paquete ipykernel.\n",
      "\u001b[1;31mEjecute el siguiente comando para instalar 'ipykernel' en el entorno de Python. comando \n",
      "\u001b[1;31m: 'c:/Users/estudiante/AppData/Local/Microsoft/WindowsApps/python3.10.exe -m pip install ipykernel -U --force-reinstall'"
     ]
    }
   ],
   "source": [
    "# Read xlsx file\n",
    "df_desempleo = pd.read_excel('../Datos/Medicion de desempleo municipal.xlsx')"
   ]
  },
  {
   "cell_type": "code",
   "execution_count": null,
   "metadata": {},
   "outputs": [
    {
     "ename": "",
     "evalue": "",
     "output_type": "error",
     "traceback": [
      "\u001b[1;31mLa ejecución de celdas con 'Python 3.10.8 64-bit (microsoft store)' requieren el paquete ipykernel.\n",
      "\u001b[1;31mEjecute el siguiente comando para instalar 'ipykernel' en el entorno de Python. comando \n",
      "\u001b[1;31m: 'c:/Users/estudiante/AppData/Local/Microsoft/WindowsApps/python3.10.exe -m pip install ipykernel -U --force-reinstall'"
     ]
    }
   ],
   "source": [
    "# Read xlsx file\n",
    "df_vivienda = pd.read_excel('../Datos/TerriData_Dim3_viviendaServiciosPublicos.xlsx')"
   ]
  },
  {
   "cell_type": "code",
   "execution_count": null,
   "metadata": {},
   "outputs": [
    {
     "ename": "",
     "evalue": "",
     "output_type": "error",
     "traceback": [
      "\u001b[1;31mLa ejecución de celdas con 'Python 3.10.8 64-bit (microsoft store)' requieren el paquete ipykernel.\n",
      "\u001b[1;31mEjecute el siguiente comando para instalar 'ipykernel' en el entorno de Python. comando \n",
      "\u001b[1;31m: 'c:/Users/estudiante/AppData/Local/Microsoft/WindowsApps/python3.10.exe -m pip install ipykernel -U --force-reinstall'"
     ]
    }
   ],
   "source": [
    "# Read xlsx file\n",
    "df_educacion = pd.read_excel('../Datos/TerriData_Dim4_Educacion.xlsx')"
   ]
  },
  {
   "cell_type": "code",
   "execution_count": null,
   "metadata": {},
   "outputs": [
    {
     "ename": "",
     "evalue": "",
     "output_type": "error",
     "traceback": [
      "\u001b[1;31mLa ejecución de celdas con 'Python 3.10.8 64-bit (microsoft store)' requieren el paquete ipykernel.\n",
      "\u001b[1;31mEjecute el siguiente comando para instalar 'ipykernel' en el entorno de Python. comando \n",
      "\u001b[1;31m: 'c:/Users/estudiante/AppData/Local/Microsoft/WindowsApps/python3.10.exe -m pip install ipykernel -U --force-reinstall'"
     ]
    }
   ],
   "source": [
    "# Read xlsx file\n",
    "df_salud = pd.read_excel('../Datos/TerriData_Dim5_salud.xlsx')"
   ]
  },
  {
   "cell_type": "code",
   "execution_count": null,
   "metadata": {},
   "outputs": [
    {
     "ename": "",
     "evalue": "",
     "output_type": "error",
     "traceback": [
      "\u001b[1;31mLa ejecución de celdas con 'Python 3.10.8 64-bit (microsoft store)' requieren el paquete ipykernel.\n",
      "\u001b[1;31mEjecute el siguiente comando para instalar 'ipykernel' en el entorno de Python. comando \n",
      "\u001b[1;31m: 'c:/Users/estudiante/AppData/Local/Microsoft/WindowsApps/python3.10.exe -m pip install ipykernel -U --force-reinstall'"
     ]
    }
   ],
   "source": [
    "# Read xlsx file\n",
    "df_pobreza = pd.read_excel('../Datos/TerriData_Dim14_pobreza.xlsx')"
   ]
  },
  {
   "cell_type": "markdown",
   "metadata": {},
   "source": [
    "# Procesamiento y limpieza de datos"
   ]
  },
  {
   "cell_type": "markdown",
   "metadata": {},
   "source": [
    "### Minería"
   ]
  },
  {
   "cell_type": "code",
   "execution_count": null,
   "metadata": {},
   "outputs": [
    {
     "ename": "",
     "evalue": "",
     "output_type": "error",
     "traceback": [
      "\u001b[1;31mLa ejecución de celdas con 'Python 3.10.8 64-bit (microsoft store)' requieren el paquete ipykernel.\n",
      "\u001b[1;31mEjecute el siguiente comando para instalar 'ipykernel' en el entorno de Python. comando \n",
      "\u001b[1;31m: 'c:/Users/estudiante/AppData/Local/Microsoft/WindowsApps/python3.10.exe -m pip install ipykernel -U --force-reinstall'"
     ]
    }
   ],
   "source": [
    "df_mineria.info()"
   ]
  },
  {
   "cell_type": "code",
   "execution_count": null,
   "metadata": {},
   "outputs": [
    {
     "ename": "",
     "evalue": "",
     "output_type": "error",
     "traceback": [
      "\u001b[1;31mLa ejecución de celdas con 'Python 3.10.8 64-bit (microsoft store)' requieren el paquete ipykernel.\n",
      "\u001b[1;31mEjecute el siguiente comando para instalar 'ipykernel' en el entorno de Python. comando \n",
      "\u001b[1;31m: 'c:/Users/estudiante/AppData/Local/Microsoft/WindowsApps/python3.10.exe -m pip install ipykernel -U --force-reinstall'"
     ]
    }
   ],
   "source": [
    "# Replace null values in cantidad_producci_n column with its mean\n",
    "df_mineria['cantidad_producci_n'].fillna(df_mineria['cantidad_producci_n'].mean(), inplace=True)\n",
    "\n",
    "# Delete rows with null values\n",
    "df_mineria.dropna(inplace=True)"
   ]
  },
  {
   "cell_type": "code",
   "execution_count": null,
   "metadata": {},
   "outputs": [
    {
     "ename": "",
     "evalue": "",
     "output_type": "error",
     "traceback": [
      "\u001b[1;31mLa ejecución de celdas con 'Python 3.10.8 64-bit (microsoft store)' requieren el paquete ipykernel.\n",
      "\u001b[1;31mEjecute el siguiente comando para instalar 'ipykernel' en el entorno de Python. comando \n",
      "\u001b[1;31m: 'c:/Users/estudiante/AppData/Local/Microsoft/WindowsApps/python3.10.exe -m pip install ipykernel -U --force-reinstall'"
     ]
    }
   ],
   "source": [
    "# Remove word 'Trimestre ' from column 'trimestre'\n",
    "df_mineria['trimestre'] = df_mineria['trimestre'].str.replace('Trimestre ', '')\n",
    "\n",
    "# Convert column 'trimestre' to int\n",
    "df_mineria['trimestre'] = df_mineria['trimestre'].astype(int)"
   ]
  },
  {
   "cell_type": "code",
   "execution_count": null,
   "metadata": {},
   "outputs": [
    {
     "ename": "",
     "evalue": "",
     "output_type": "error",
     "traceback": [
      "\u001b[1;31mLa ejecución de celdas con 'Python 3.10.8 64-bit (microsoft store)' requieren el paquete ipykernel.\n",
      "\u001b[1;31mEjecute el siguiente comando para instalar 'ipykernel' en el entorno de Python. comando \n",
      "\u001b[1;31m: 'c:/Users/estudiante/AppData/Local/Microsoft/WindowsApps/python3.10.exe -m pip install ipykernel -U --force-reinstall'"
     ]
    }
   ],
   "source": [
    "# Graph histogram of 'valor_contraprestacion' and 'cantidad_producci_n'\n",
    "df_mineria[['valor_contraprestacion', 'cantidad_producci_n']].hist(figsize=(18, 5))"
   ]
  },
  {
   "cell_type": "code",
   "execution_count": null,
   "metadata": {},
   "outputs": [
    {
     "ename": "",
     "evalue": "",
     "output_type": "error",
     "traceback": [
      "\u001b[1;31mLa ejecución de celdas con 'Python 3.10.8 64-bit (microsoft store)' requieren el paquete ipykernel.\n",
      "\u001b[1;31mEjecute el siguiente comando para instalar 'ipykernel' en el entorno de Python. comando \n",
      "\u001b[1;31m: 'c:/Users/estudiante/AppData/Local/Microsoft/WindowsApps/python3.10.exe -m pip install ipykernel -U --force-reinstall'"
     ]
    }
   ],
   "source": [
    "# Visualización de distribuciones de las columnas con sns\n",
    "fig, ax = plt.subplots(3, 2, figsize=(15, 10))\n",
    "sns.histplot(df_mineria['departamento'], ax=ax[0, 0])\n",
    "sns.histplot(df_mineria['recurso_natural'], ax=ax[0, 1])\n",
    "sns.histplot(df_mineria['a_o_produccion'], ax=ax[1, 0])\n",
    "sns.histplot(df_mineria['trimestre'], ax=ax[1, 1])\n",
    "sns.histplot(df_mineria['unidad_medida'], ax=ax[2, 0])\n",
    "sns.histplot(df_mineria['tipo_contraprestacion'], ax=ax[2, 1])\n",
    "# sns.histplot(df_mineria['valor_contraprestacion'], ax=ax[2, 0], kde=True)\n",
    "# sns.histplot(df_mineria['cantidad_producci_n'], ax=ax[2, 1], kde=True)\n",
    "plt.show()"
   ]
  },
  {
   "cell_type": "code",
   "execution_count": null,
   "metadata": {},
   "outputs": [
    {
     "ename": "",
     "evalue": "",
     "output_type": "error",
     "traceback": [
      "\u001b[1;31mLa ejecución de celdas con 'Python 3.10.8 64-bit (microsoft store)' requieren el paquete ipykernel.\n",
      "\u001b[1;31mEjecute el siguiente comando para instalar 'ipykernel' en el entorno de Python. comando \n",
      "\u001b[1;31m: 'c:/Users/estudiante/AppData/Local/Microsoft/WindowsApps/python3.10.exe -m pip install ipykernel -U --force-reinstall'"
     ]
    }
   ],
   "source": [
    "# Replace column name 'codigo_dane' with 'Código Entidad'\n",
    "df_mineria.rename(columns={'codigo_dane': 'Código Entidad'}, inplace=True)\n",
    "# Replace column name 'municipio_productor' with 'Entidad'\n",
    "df_mineria.rename(columns={'municipio_productor': 'Entidad'}, inplace=True)\n",
    "# Replace column name 'departamento' with 'Departamento'\n",
    "df_mineria.rename(columns={'departamento': 'Departamento'}, inplace=True)\n",
    "# Replace column name 'a_o_produccion' with 'Año'\n",
    "df_mineria.rename(columns={'a_o_produccion': 'Año'}, inplace=True)"
   ]
  },
  {
   "cell_type": "markdown",
   "metadata": {},
   "source": [
    "### Conflicto"
   ]
  },
  {
   "cell_type": "code",
   "execution_count": null,
   "metadata": {},
   "outputs": [
    {
     "ename": "",
     "evalue": "",
     "output_type": "error",
     "traceback": [
      "\u001b[1;31mLa ejecución de celdas con 'Python 3.10.8 64-bit (microsoft store)' requieren el paquete ipykernel.\n",
      "\u001b[1;31mEjecute el siguiente comando para instalar 'ipykernel' en el entorno de Python. comando \n",
      "\u001b[1;31m: 'c:/Users/estudiante/AppData/Local/Microsoft/WindowsApps/python3.10.exe -m pip install ipykernel -U --force-reinstall'"
     ]
    }
   ],
   "source": [
    "print(df_conflicto.info())\n",
    "df_conflicto.sample(5)"
   ]
  },
  {
   "cell_type": "code",
   "execution_count": null,
   "metadata": {},
   "outputs": [
    {
     "ename": "",
     "evalue": "",
     "output_type": "error",
     "traceback": [
      "\u001b[1;31mLa ejecución de celdas con 'Python 3.10.8 64-bit (microsoft store)' requieren el paquete ipykernel.\n",
      "\u001b[1;31mEjecute el siguiente comando para instalar 'ipykernel' en el entorno de Python. comando \n",
      "\u001b[1;31m: 'c:/Users/estudiante/AppData/Local/Microsoft/WindowsApps/python3.10.exe -m pip install ipykernel -U --force-reinstall'"
     ]
    }
   ],
   "source": [
    "# Drop columns with null values in 'Código Departamento' column\n",
    "df_conflicto.dropna(subset=['Código Departamento'], inplace=True)\n",
    "\n",
    "# In the column Dato Numérico, replace '.' with ''\n",
    "df_conflicto['Dato Numérico'] = df_conflicto['Dato Numérico'].str.replace('.', '')\n",
    "df_conflicto['Dato Numérico'] = df_conflicto['Dato Numérico'].str.replace(',', '.')\n",
    "\n",
    "# Convert column 'Dato Numérico' to float\n",
    "df_conflicto['Dato Numérico'] = df_conflicto['Dato Numérico'].astype(float)\n",
    "\n",
    "# Replace null values in 'Dato Numérico' column with -1\n",
    "df_conflicto['Dato Numérico'].fillna(-1, inplace=True)\n",
    "\n",
    "# In 'Dato Cualitativo' column, replace null values with 'N/A o Sin valor'\n",
    "df_conflicto['Dato Cualitativo'].fillna('N/A o Sin valor', inplace=True)"
   ]
  },
  {
   "cell_type": "markdown",
   "metadata": {},
   "source": [
    "### Demografía"
   ]
  },
  {
   "cell_type": "code",
   "execution_count": null,
   "metadata": {},
   "outputs": [
    {
     "ename": "",
     "evalue": "",
     "output_type": "error",
     "traceback": [
      "\u001b[1;31mLa ejecución de celdas con 'Python 3.10.8 64-bit (microsoft store)' requieren el paquete ipykernel.\n",
      "\u001b[1;31mEjecute el siguiente comando para instalar 'ipykernel' en el entorno de Python. comando \n",
      "\u001b[1;31m: 'c:/Users/estudiante/AppData/Local/Microsoft/WindowsApps/python3.10.exe -m pip install ipykernel -U --force-reinstall'"
     ]
    }
   ],
   "source": [
    "print(df_demografia.info())\n",
    "df_demografia.sample(5)"
   ]
  },
  {
   "cell_type": "code",
   "execution_count": null,
   "metadata": {},
   "outputs": [
    {
     "ename": "",
     "evalue": "",
     "output_type": "error",
     "traceback": [
      "\u001b[1;31mLa ejecución de celdas con 'Python 3.10.8 64-bit (microsoft store)' requieren el paquete ipykernel.\n",
      "\u001b[1;31mEjecute el siguiente comando para instalar 'ipykernel' en el entorno de Python. comando \n",
      "\u001b[1;31m: 'c:/Users/estudiante/AppData/Local/Microsoft/WindowsApps/python3.10.exe -m pip install ipykernel -U --force-reinstall'"
     ]
    }
   ],
   "source": [
    "# Drop rows with null values in 'Código Departamento' column\n",
    "df_demografia.dropna(subset=['Código Departamento'], inplace=True)\n",
    "\n",
    "# Drop column 'Dato Cualitativo'\n",
    "df_demografia.drop('Dato Cualitativo', axis=1, inplace=True)\n",
    "\n",
    "# In the column Dato Numérico, replace '.' with ''\n",
    "df_demografia['Dato Numérico'] = df_demografia['Dato Numérico'].str.replace('.', '')\n",
    "df_demografia['Dato Numérico'] = df_demografia['Dato Numérico'].str.replace(',', '.')\n",
    "\n",
    "# Convert column 'Dato Numérico' to float\n",
    "df_demografia['Dato Numérico'] = df_demografia['Dato Numérico'].astype(float)\n",
    "\n",
    "# Replace null values in 'Dato Numérico' column with -1\n",
    "df_demografia['Dato Numérico'].fillna(-1, inplace=True)"
   ]
  },
  {
   "cell_type": "markdown",
   "metadata": {},
   "source": [
    "### Desempleo"
   ]
  },
  {
   "cell_type": "code",
   "execution_count": null,
   "metadata": {},
   "outputs": [
    {
     "ename": "",
     "evalue": "",
     "output_type": "error",
     "traceback": [
      "\u001b[1;31mLa ejecución de celdas con 'Python 3.10.8 64-bit (microsoft store)' requieren el paquete ipykernel.\n",
      "\u001b[1;31mEjecute el siguiente comando para instalar 'ipykernel' en el entorno de Python. comando \n",
      "\u001b[1;31m: 'c:/Users/estudiante/AppData/Local/Microsoft/WindowsApps/python3.10.exe -m pip install ipykernel -U --force-reinstall'"
     ]
    }
   ],
   "source": [
    "print(df_desempleo.info())\n",
    "df_desempleo.sample(5)"
   ]
  },
  {
   "cell_type": "code",
   "execution_count": null,
   "metadata": {},
   "outputs": [
    {
     "ename": "",
     "evalue": "",
     "output_type": "error",
     "traceback": [
      "\u001b[1;31mLa ejecución de celdas con 'Python 3.10.8 64-bit (microsoft store)' requieren el paquete ipykernel.\n",
      "\u001b[1;31mEjecute el siguiente comando para instalar 'ipykernel' en el entorno de Python. comando \n",
      "\u001b[1;31m: 'c:/Users/estudiante/AppData/Local/Microsoft/WindowsApps/python3.10.exe -m pip install ipykernel -U --force-reinstall'"
     ]
    }
   ],
   "source": [
    "# Drop rows with null values in 'Código Departamento' column\n",
    "df_desempleo.dropna(subset=['Código Departamento'], inplace=True)\n",
    "\n",
    "# In the column Dato Numérico, replace '.' with ''\n",
    "df_desempleo['Dato Numérico'] = df_desempleo['Dato Numérico'].str.replace('.', '')\n",
    "df_desempleo['Dato Numérico'] = df_desempleo['Dato Numérico'].str.replace(',', '.')\n",
    "\n",
    "# Convert column 'Dato Numérico' to float\n",
    "df_desempleo['Dato Numérico'] = df_desempleo['Dato Numérico'].astype(float)\n",
    "\n",
    "# Replace null values in 'Dato Numérico' column with -1\n",
    "df_desempleo['Dato Numérico'].fillna(-1, inplace=True)\n",
    "\n",
    "# In 'Dato Cualitativo' column, replace null values with 'N/A o Sin valor'\n",
    "df_desempleo['Dato Cualitativo'].fillna('N/A o Sin valor', inplace=True)"
   ]
  },
  {
   "cell_type": "markdown",
   "metadata": {},
   "source": [
    "### Vivienda"
   ]
  },
  {
   "cell_type": "code",
   "execution_count": null,
   "metadata": {},
   "outputs": [
    {
     "ename": "",
     "evalue": "",
     "output_type": "error",
     "traceback": [
      "\u001b[1;31mLa ejecución de celdas con 'Python 3.10.8 64-bit (microsoft store)' requieren el paquete ipykernel.\n",
      "\u001b[1;31mEjecute el siguiente comando para instalar 'ipykernel' en el entorno de Python. comando \n",
      "\u001b[1;31m: 'c:/Users/estudiante/AppData/Local/Microsoft/WindowsApps/python3.10.exe -m pip install ipykernel -U --force-reinstall'"
     ]
    }
   ],
   "source": [
    "print(df_vivienda.info())\n",
    "df_vivienda.sample(5)"
   ]
  },
  {
   "cell_type": "code",
   "execution_count": null,
   "metadata": {},
   "outputs": [
    {
     "ename": "",
     "evalue": "",
     "output_type": "error",
     "traceback": [
      "\u001b[1;31mLa ejecución de celdas con 'Python 3.10.8 64-bit (microsoft store)' requieren el paquete ipykernel.\n",
      "\u001b[1;31mEjecute el siguiente comando para instalar 'ipykernel' en el entorno de Python. comando \n",
      "\u001b[1;31m: 'c:/Users/estudiante/AppData/Local/Microsoft/WindowsApps/python3.10.exe -m pip install ipykernel -U --force-reinstall'"
     ]
    }
   ],
   "source": [
    "# Drop rows with null values in 'Código Departamento' column\n",
    "df_vivienda.dropna(subset=['Código Departamento'], inplace=True)\n",
    "\n",
    "# In the column Dato Numérico, replace '.' with ''\n",
    "df_vivienda['Dato Numérico'] = df_vivienda['Dato Numérico'].str.replace('.', '')\n",
    "df_vivienda['Dato Numérico'] = df_vivienda['Dato Numérico'].str.replace(',', '.')\n",
    "\n",
    "# Convert column 'Dato Numérico' to float\n",
    "df_vivienda['Dato Numérico'] = df_vivienda['Dato Numérico'].astype(float)\n",
    "\n",
    "# Replace null values in 'Dato Numérico' column with -1\n",
    "df_vivienda['Dato Numérico'].fillna(-1, inplace=True)\n",
    "\n",
    "# In 'Dato Cualitativo' column, replace null values with 'N/A o Sin valor'\n",
    "df_vivienda['Dato Cualitativo'].fillna('N/A o Sin valor', inplace=True)"
   ]
  },
  {
   "cell_type": "markdown",
   "metadata": {},
   "source": [
    "### Educación"
   ]
  },
  {
   "cell_type": "code",
   "execution_count": null,
   "metadata": {},
   "outputs": [
    {
     "ename": "",
     "evalue": "",
     "output_type": "error",
     "traceback": [
      "\u001b[1;31mLa ejecución de celdas con 'Python 3.10.8 64-bit (microsoft store)' requieren el paquete ipykernel.\n",
      "\u001b[1;31mEjecute el siguiente comando para instalar 'ipykernel' en el entorno de Python. comando \n",
      "\u001b[1;31m: 'c:/Users/estudiante/AppData/Local/Microsoft/WindowsApps/python3.10.exe -m pip install ipykernel -U --force-reinstall'"
     ]
    }
   ],
   "source": [
    "print(df_educacion.info())\n",
    "df_educacion.sample(5)"
   ]
  },
  {
   "cell_type": "code",
   "execution_count": null,
   "metadata": {},
   "outputs": [
    {
     "ename": "",
     "evalue": "",
     "output_type": "error",
     "traceback": [
      "\u001b[1;31mLa ejecución de celdas con 'Python 3.10.8 64-bit (microsoft store)' requieren el paquete ipykernel.\n",
      "\u001b[1;31mEjecute el siguiente comando para instalar 'ipykernel' en el entorno de Python. comando \n",
      "\u001b[1;31m: 'c:/Users/estudiante/AppData/Local/Microsoft/WindowsApps/python3.10.exe -m pip install ipykernel -U --force-reinstall'"
     ]
    }
   ],
   "source": [
    "# Drop rows with null values in 'Código Departamento' column\n",
    "df_educacion.dropna(subset=['Código Departamento'], inplace=True)\n",
    "\n",
    "# In the column Dato Numérico, replace '.' with ''\n",
    "df_educacion['Dato Numérico'] = df_educacion['Dato Numérico'].str.replace('.', '')\n",
    "df_educacion['Dato Numérico'] = df_educacion['Dato Numérico'].str.replace(',', '.')\n",
    "\n",
    "# Convert column 'Dato Numérico' to float\n",
    "df_educacion['Dato Numérico'] = df_educacion['Dato Numérico'].astype(float)\n",
    "\n",
    "# Replace null values in 'Dato Numérico' column with -1\n",
    "df_educacion['Dato Numérico'].fillna(-1, inplace=True)\n",
    "\n",
    "# Drop column 'Dato Cualitativo'\n",
    "df_educacion.drop('Dato Cualitativo', axis=1, inplace=True)"
   ]
  },
  {
   "cell_type": "markdown",
   "metadata": {},
   "source": [
    "### Salud"
   ]
  },
  {
   "cell_type": "code",
   "execution_count": null,
   "metadata": {},
   "outputs": [
    {
     "ename": "",
     "evalue": "",
     "output_type": "error",
     "traceback": [
      "\u001b[1;31mLa ejecución de celdas con 'Python 3.10.8 64-bit (microsoft store)' requieren el paquete ipykernel.\n",
      "\u001b[1;31mEjecute el siguiente comando para instalar 'ipykernel' en el entorno de Python. comando \n",
      "\u001b[1;31m: 'c:/Users/estudiante/AppData/Local/Microsoft/WindowsApps/python3.10.exe -m pip install ipykernel -U --force-reinstall'"
     ]
    }
   ],
   "source": [
    "print(df_salud.info())\n",
    "df_salud.sample(5)"
   ]
  },
  {
   "cell_type": "code",
   "execution_count": null,
   "metadata": {},
   "outputs": [
    {
     "ename": "",
     "evalue": "",
     "output_type": "error",
     "traceback": [
      "\u001b[1;31mLa ejecución de celdas con 'Python 3.10.8 64-bit (microsoft store)' requieren el paquete ipykernel.\n",
      "\u001b[1;31mEjecute el siguiente comando para instalar 'ipykernel' en el entorno de Python. comando \n",
      "\u001b[1;31m: 'c:/Users/estudiante/AppData/Local/Microsoft/WindowsApps/python3.10.exe -m pip install ipykernel -U --force-reinstall'"
     ]
    }
   ],
   "source": [
    "# Drop rows with null values in 'Código Departamento' column\n",
    "df_salud.dropna(subset=['Código Departamento'], inplace=True)\n",
    "\n",
    "# Drop column 'Dato Cualitativo'\n",
    "df_salud.drop('Dato Cualitativo', axis=1, inplace=True)\n",
    "\n",
    "# In the column Dato Numérico, replace '.' with ''\n",
    "df_salud['Dato Numérico'] = df_salud['Dato Numérico'].str.replace('.', '')\n",
    "df_salud['Dato Numérico'] = df_salud['Dato Numérico'].str.replace(',', '.')\n",
    "\n",
    "# Convert column 'Dato Numérico' to float\n",
    "df_salud['Dato Numérico'] = df_salud['Dato Numérico'].astype(float)\n",
    "\n",
    "# Replace null values in 'Dato Numérico' column with -1\n",
    "df_salud['Dato Numérico'].fillna(-1, inplace=True)"
   ]
  },
  {
   "cell_type": "markdown",
   "metadata": {},
   "source": [
    "### Pobreza"
   ]
  },
  {
   "cell_type": "code",
   "execution_count": null,
   "metadata": {},
   "outputs": [
    {
     "ename": "",
     "evalue": "",
     "output_type": "error",
     "traceback": [
      "\u001b[1;31mLa ejecución de celdas con 'Python 3.10.8 64-bit (microsoft store)' requieren el paquete ipykernel.\n",
      "\u001b[1;31mEjecute el siguiente comando para instalar 'ipykernel' en el entorno de Python. comando \n",
      "\u001b[1;31m: 'c:/Users/estudiante/AppData/Local/Microsoft/WindowsApps/python3.10.exe -m pip install ipykernel -U --force-reinstall'"
     ]
    }
   ],
   "source": [
    "print(df_pobreza.info())\n",
    "df_pobreza.sample(5)"
   ]
  },
  {
   "cell_type": "code",
   "execution_count": null,
   "metadata": {},
   "outputs": [
    {
     "ename": "",
     "evalue": "",
     "output_type": "error",
     "traceback": [
      "\u001b[1;31mLa ejecución de celdas con 'Python 3.10.8 64-bit (microsoft store)' requieren el paquete ipykernel.\n",
      "\u001b[1;31mEjecute el siguiente comando para instalar 'ipykernel' en el entorno de Python. comando \n",
      "\u001b[1;31m: 'c:/Users/estudiante/AppData/Local/Microsoft/WindowsApps/python3.10.exe -m pip install ipykernel -U --force-reinstall'"
     ]
    }
   ],
   "source": [
    "# Drop rows with null values in 'Código Departamento' column\n",
    "df_pobreza.dropna(subset=['Código Departamento'], inplace=True)\n",
    "\n",
    "# Drop column 'Dato Cualitativo'\n",
    "df_pobreza.drop('Dato Cualitativo', axis=1, inplace=True)\n",
    "\n",
    "# In the column Dato Numérico, replace '.' with ''\n",
    "df_pobreza['Dato Numérico'] = df_pobreza['Dato Numérico'].str.replace('.', '')\n",
    "df_pobreza['Dato Numérico'] = df_pobreza['Dato Numérico'].str.replace(',', '.')\n",
    "\n",
    "# Convert column 'Dato Numérico' to float\n",
    "df_pobreza['Dato Numérico'] = df_pobreza['Dato Numérico'].astype(float)\n",
    "\n",
    "# Replace null values in 'Dato Numérico' column with -1\n",
    "df_pobreza['Dato Numérico'].fillna(-1, inplace=True)"
   ]
  },
  {
   "cell_type": "markdown",
   "metadata": {},
   "source": [
    "# Creación tabla municipio"
   ]
  },
  {
   "cell_type": "code",
   "execution_count": null,
   "metadata": {},
   "outputs": [
    {
     "ename": "",
     "evalue": "",
     "output_type": "error",
     "traceback": [
      "\u001b[1;31mLa ejecución de celdas con 'Python 3.10.8 64-bit (microsoft store)' requieren el paquete ipykernel.\n",
      "\u001b[1;31mEjecute el siguiente comando para instalar 'ipykernel' en el entorno de Python. comando \n",
      "\u001b[1;31m: 'c:/Users/estudiante/AppData/Local/Microsoft/WindowsApps/python3.10.exe -m pip install ipykernel -U --force-reinstall'"
     ]
    }
   ],
   "source": [
    "## Create new dataframe 'df_departamentos' with the following columns: 'Código Entidad', 'Entidad', 'Departamento'\n",
    "df_departamentos = pd.DataFrame(columns=['Código Entidad', 'Entidad', 'Departamento'])"
   ]
  },
  {
   "cell_type": "code",
   "execution_count": null,
   "metadata": {},
   "outputs": [
    {
     "ename": "",
     "evalue": "",
     "output_type": "error",
     "traceback": [
      "\u001b[1;31mLa ejecución de celdas con 'Python 3.10.8 64-bit (microsoft store)' requieren el paquete ipykernel.\n",
      "\u001b[1;31mEjecute el siguiente comando para instalar 'ipykernel' en el entorno de Python. comando \n",
      "\u001b[1;31m: 'c:/Users/estudiante/AppData/Local/Microsoft/WindowsApps/python3.10.exe -m pip install ipykernel -U --force-reinstall'"
     ]
    }
   ],
   "source": [
    "# Iterate over the rows of 'df_conflicto' dataframe\n",
    "for index, row in df_conflicto.iterrows():\n",
    "    # If the value of 'Código Entidad' column is not in 'df_departamentos' dataframe, add it\n",
    "    if row['Código Entidad'] not in df_departamentos['Código Entidad'].values:\n",
    "        df_departamentos = df_departamentos.append({'Código Entidad': row['Código Entidad'], 'Entidad': row['Entidad'], 'Departamento': row['Departamento']}, ignore_index=True)\n",
    "\n",
    "# In df_conflicto drop columns 'Entidad', 'Código Departamento' and 'Departamento'\n",
    "df_conflicto.drop(['Entidad', 'Código Departamento', 'Departamento'], axis=1, inplace=True)"
   ]
  },
  {
   "cell_type": "code",
   "execution_count": null,
   "metadata": {},
   "outputs": [
    {
     "ename": "",
     "evalue": "",
     "output_type": "error",
     "traceback": [
      "\u001b[1;31mLa ejecución de celdas con 'Python 3.10.8 64-bit (microsoft store)' requieren el paquete ipykernel.\n",
      "\u001b[1;31mEjecute el siguiente comando para instalar 'ipykernel' en el entorno de Python. comando \n",
      "\u001b[1;31m: 'c:/Users/estudiante/AppData/Local/Microsoft/WindowsApps/python3.10.exe -m pip install ipykernel -U --force-reinstall'"
     ]
    }
   ],
   "source": [
    "# Iterate over the rows of 'df_demografia' dataframe\n",
    "for index, row in df_demografia.iterrows():\n",
    "    # If the value of 'Código Entidad' column is not in 'df_departamentos' dataframe, add it\n",
    "    if row['Código Entidad'] not in df_departamentos['Código Entidad'].values:\n",
    "        df_departamentos = df_departamentos.append({'Código Entidad': row['Código Entidad'], 'Entidad': row['Entidad'], 'Departamento': row['Departamento']}, ignore_index=True)\n",
    "\n",
    "# In df_demografia drop columns 'Entidad', 'Código Departamento' and 'Departamento'\n",
    "df_demografia.drop(['Entidad', 'Código Departamento', 'Departamento'], axis=1, inplace=True)"
   ]
  },
  {
   "cell_type": "code",
   "execution_count": null,
   "metadata": {},
   "outputs": [
    {
     "ename": "",
     "evalue": "",
     "output_type": "error",
     "traceback": [
      "\u001b[1;31mLa ejecución de celdas con 'Python 3.10.8 64-bit (microsoft store)' requieren el paquete ipykernel.\n",
      "\u001b[1;31mEjecute el siguiente comando para instalar 'ipykernel' en el entorno de Python. comando \n",
      "\u001b[1;31m: 'c:/Users/estudiante/AppData/Local/Microsoft/WindowsApps/python3.10.exe -m pip install ipykernel -U --force-reinstall'"
     ]
    }
   ],
   "source": [
    "# Iterate over the rows of 'df_desempleo' dataframe\n",
    "for index, row in df_desempleo.iterrows():\n",
    "    # If the value of 'Código Entidad' column is not in 'df_departamentos' dataframe, add it\n",
    "    if row['Código Entidad'] not in df_departamentos['Código Entidad'].values:\n",
    "        df_departamentos = df_departamentos.append({'Código Entidad': row['Código Entidad'], 'Entidad': row['Entidad'], 'Departamento': row['Departamento']}, ignore_index=True)\n",
    "\n",
    "# In df_desempleo drop columns 'Entidad', 'Código Departamento' and 'Departamento'\n",
    "df_desempleo.drop(['Entidad', 'Código Departamento', 'Departamento'], axis=1, inplace=True)"
   ]
  },
  {
   "cell_type": "code",
   "execution_count": null,
   "metadata": {},
   "outputs": [
    {
     "ename": "",
     "evalue": "",
     "output_type": "error",
     "traceback": [
      "\u001b[1;31mLa ejecución de celdas con 'Python 3.10.8 64-bit (microsoft store)' requieren el paquete ipykernel.\n",
      "\u001b[1;31mEjecute el siguiente comando para instalar 'ipykernel' en el entorno de Python. comando \n",
      "\u001b[1;31m: 'c:/Users/estudiante/AppData/Local/Microsoft/WindowsApps/python3.10.exe -m pip install ipykernel -U --force-reinstall'"
     ]
    }
   ],
   "source": [
    "# Iterate over the rows of 'df_vivienda' dataframe\n",
    "for index, row in df_vivienda.iterrows():\n",
    "    # If the value of 'Código Entidad' column is not in 'df_departamentos' dataframe, add it\n",
    "    if row['Código Entidad'] not in df_departamentos['Código Entidad'].values:\n",
    "        df_departamentos = df_departamentos.append({'Código Entidad': row['Código Entidad'], 'Entidad': row['Entidad'], 'Departamento': row['Departamento']}, ignore_index=True)\n",
    "\n",
    "# In df_vivienda drop columns 'Entidad', 'Código Departamento' and 'Departamento'\n",
    "df_vivienda.drop(['Entidad', 'Código Departamento', 'Departamento'], axis=1, inplace=True)"
   ]
  },
  {
   "cell_type": "code",
   "execution_count": null,
   "metadata": {},
   "outputs": [
    {
     "ename": "",
     "evalue": "",
     "output_type": "error",
     "traceback": [
      "\u001b[1;31mLa ejecución de celdas con 'Python 3.10.8 64-bit (microsoft store)' requieren el paquete ipykernel.\n",
      "\u001b[1;31mEjecute el siguiente comando para instalar 'ipykernel' en el entorno de Python. comando \n",
      "\u001b[1;31m: 'c:/Users/estudiante/AppData/Local/Microsoft/WindowsApps/python3.10.exe -m pip install ipykernel -U --force-reinstall'"
     ]
    }
   ],
   "source": [
    "# Iterate over the rows of 'df_educacion' dataframe\n",
    "for index, row in df_educacion.iterrows():\n",
    "    # If the value of 'Código Entidad' column is not in 'df_departamentos' dataframe, add it\n",
    "    if row['Código Entidad'] not in df_departamentos['Código Entidad'].values:\n",
    "        df_departamentos = df_departamentos.append({'Código Entidad': row['Código Entidad'], 'Entidad': row['Entidad'], 'Departamento': row['Departamento']}, ignore_index=True)\n",
    "\n",
    "# In df_educacion drop columns 'Entidad', 'Código Departamento' and 'Departamento'\n",
    "df_educacion.drop(['Entidad', 'Código Departamento', 'Departamento'], axis=1, inplace=True)"
   ]
  },
  {
   "cell_type": "code",
   "execution_count": null,
   "metadata": {},
   "outputs": [
    {
     "ename": "",
     "evalue": "",
     "output_type": "error",
     "traceback": [
      "\u001b[1;31mLa ejecución de celdas con 'Python 3.10.8 64-bit (microsoft store)' requieren el paquete ipykernel.\n",
      "\u001b[1;31mEjecute el siguiente comando para instalar 'ipykernel' en el entorno de Python. comando \n",
      "\u001b[1;31m: 'c:/Users/estudiante/AppData/Local/Microsoft/WindowsApps/python3.10.exe -m pip install ipykernel -U --force-reinstall'"
     ]
    }
   ],
   "source": [
    "# Iterate over the rows of 'df_salud' dataframe\n",
    "for index, row in df_salud.iterrows():\n",
    "    # If the value of 'Código Entidad' column is not in 'df_departamentos' dataframe, add it\n",
    "    if row['Código Entidad'] not in df_departamentos['Código Entidad'].values:\n",
    "        df_departamentos = df_departamentos.append({'Código Entidad': row['Código Entidad'], 'Entidad': row['Entidad'], 'Departamento': row['Departamento']}, ignore_index=True)\n",
    "\n",
    "# In df_salud drop columns 'Entidad', 'Código Departamento' and 'Departamento'\n",
    "df_salud.drop(['Entidad', 'Código Departamento', 'Departamento'], axis=1, inplace=True)"
   ]
  },
  {
   "cell_type": "code",
   "execution_count": null,
   "metadata": {},
   "outputs": [
    {
     "ename": "",
     "evalue": "",
     "output_type": "error",
     "traceback": [
      "\u001b[1;31mLa ejecución de celdas con 'Python 3.10.8 64-bit (microsoft store)' requieren el paquete ipykernel.\n",
      "\u001b[1;31mEjecute el siguiente comando para instalar 'ipykernel' en el entorno de Python. comando \n",
      "\u001b[1;31m: 'c:/Users/estudiante/AppData/Local/Microsoft/WindowsApps/python3.10.exe -m pip install ipykernel -U --force-reinstall'"
     ]
    }
   ],
   "source": [
    "# Iterate over the rows of 'df_pobreza' dataframe\n",
    "for index, row in df_pobreza.iterrows():\n",
    "    # If the value of 'Código Entidad' column is not in 'df_departamentos' dataframe, add it\n",
    "    if row['Código Entidad'] not in df_departamentos['Código Entidad'].values:\n",
    "        df_departamentos = df_departamentos.append({'Código Entidad': row['Código Entidad'], 'Entidad': row['Entidad'], 'Departamento': row['Departamento']}, ignore_index=True)\n",
    "\n",
    "# In df_pobreza drop columns 'Entidad', 'Código Departamento' and 'Departamento'\n",
    "df_pobreza.drop(['Entidad', 'Código Departamento', 'Departamento'], axis=1, inplace=True)"
   ]
  },
  {
   "cell_type": "code",
   "execution_count": null,
   "metadata": {},
   "outputs": [
    {
     "ename": "",
     "evalue": "",
     "output_type": "error",
     "traceback": [
      "\u001b[1;31mLa ejecución de celdas con 'Python 3.10.8 64-bit (microsoft store)' requieren el paquete ipykernel.\n",
      "\u001b[1;31mEjecute el siguiente comando para instalar 'ipykernel' en el entorno de Python. comando \n",
      "\u001b[1;31m: 'c:/Users/estudiante/AppData/Local/Microsoft/WindowsApps/python3.10.exe -m pip install ipykernel -U --force-reinstall'"
     ]
    }
   ],
   "source": [
    "# Iterate over the rows of 'df_mineria' dataframe\n",
    "for index, row in df_mineria.iterrows():\n",
    "    # If the value of 'Código Entidad' column is not in 'df_departamentos' dataframe, add it\n",
    "    if row['Código Entidad'] not in df_departamentos['Código Entidad'].values:\n",
    "        df_departamentos = df_departamentos.append({'Código Entidad': row['Código Entidad'], 'Entidad': row['Entidad'], 'Departamento': row['Departamento']}, ignore_index=True)\n",
    "\n",
    "# In df_mineria drop columns 'Entidad', and 'Departamento'\n",
    "df_mineria.drop(['Entidad', 'Departamento'], axis=1, inplace=True)"
   ]
  },
  {
   "cell_type": "code",
   "execution_count": null,
   "metadata": {},
   "outputs": [
    {
     "ename": "",
     "evalue": "",
     "output_type": "error",
     "traceback": [
      "\u001b[1;31mLa ejecución de celdas con 'Python 3.10.8 64-bit (microsoft store)' requieren el paquete ipykernel.\n",
      "\u001b[1;31mEjecute el siguiente comando para instalar 'ipykernel' en el entorno de Python. comando \n",
      "\u001b[1;31m: 'c:/Users/estudiante/AppData/Local/Microsoft/WindowsApps/python3.10.exe -m pip install ipykernel -U --force-reinstall'"
     ]
    }
   ],
   "source": [
    "print(df_departamentos.info())\n",
    "df_departamentos.sample(5)"
   ]
  },
  {
   "cell_type": "markdown",
   "metadata": {},
   "source": [
    "# Escogencia de columnas"
   ]
  },
  {
   "cell_type": "code",
   "execution_count": null,
   "metadata": {},
   "outputs": [
    {
     "ename": "",
     "evalue": "",
     "output_type": "error",
     "traceback": [
      "\u001b[1;31mLa ejecución de celdas con 'Python 3.10.8 64-bit (microsoft store)' requieren el paquete ipykernel.\n",
      "\u001b[1;31mEjecute el siguiente comando para instalar 'ipykernel' en el entorno de Python. comando \n",
      "\u001b[1;31m: 'c:/Users/estudiante/AppData/Local/Microsoft/WindowsApps/python3.10.exe -m pip install ipykernel -U --force-reinstall'"
     ]
    }
   ],
   "source": [
    "# En df_mineria eliminar columnas 'nombre_del_proyecto', 'tipo_contraprestacion', 'cantidad_producci_n'\n",
    "df_mineria.drop(['nombre_del_proyecto', 'tipo_contraprestacion', 'cantidad_producci_n', 'unidad_medida'], axis=1, inplace=True)"
   ]
  },
  {
   "cell_type": "markdown",
   "metadata": {},
   "source": [
    "### Conflicto"
   ]
  },
  {
   "cell_type": "code",
   "execution_count": null,
   "metadata": {},
   "outputs": [
    {
     "ename": "",
     "evalue": "",
     "output_type": "error",
     "traceback": [
      "\u001b[1;31mLa ejecución de celdas con 'Python 3.10.8 64-bit (microsoft store)' requieren el paquete ipykernel.\n",
      "\u001b[1;31mEjecute el siguiente comando para instalar 'ipykernel' en el entorno de Python. comando \n",
      "\u001b[1;31m: 'c:/Users/estudiante/AppData/Local/Microsoft/WindowsApps/python3.10.exe -m pip install ipykernel -U --force-reinstall'"
     ]
    }
   ],
   "source": [
    "# Value counts for df_conflicto['Indicador']\n",
    "df_conflicto['Indicador'].value_counts()"
   ]
  },
  {
   "cell_type": "markdown",
   "metadata": {},
   "source": [
    "Se dejan en la tabla solo los valores de Número de personas desplazadas, la fuente es: Unidad para la Atención y Reparación Integral a las Víctimas, y la unidad es personas"
   ]
  },
  {
   "cell_type": "code",
   "execution_count": null,
   "metadata": {},
   "outputs": [
    {
     "ename": "",
     "evalue": "",
     "output_type": "error",
     "traceback": [
      "\u001b[1;31mLa ejecución de celdas con 'Python 3.10.8 64-bit (microsoft store)' requieren el paquete ipykernel.\n",
      "\u001b[1;31mEjecute el siguiente comando para instalar 'ipykernel' en el entorno de Python. comando \n",
      "\u001b[1;31m: 'c:/Users/estudiante/AppData/Local/Microsoft/WindowsApps/python3.10.exe -m pip install ipykernel -U --force-reinstall'"
     ]
    }
   ],
   "source": [
    "# Borrar filas en df_conflicto donde 'Indicador' es diferente a 'Número de personas desplazadas'\n",
    "df_conflicto = df_conflicto[df_conflicto['Indicador'] == 'Número de personas desplazadas']\n",
    "\n",
    "# Eliminar columnas 'Dato Cualitativo', 'Indicador', 'Subcategoría', 'Dimensión'\n",
    "df_conflicto.drop(['Dato Cualitativo', 'Indicador', 'Subcategoría', 'Dimensión', 'Fuente', 'Unidad de Medida'], axis=1, inplace=True)\n",
    "\n",
    "df_conflicto.sample(5)"
   ]
  },
  {
   "cell_type": "markdown",
   "metadata": {},
   "source": [
    "### Demografía"
   ]
  },
  {
   "cell_type": "code",
   "execution_count": null,
   "metadata": {},
   "outputs": [
    {
     "ename": "",
     "evalue": "",
     "output_type": "error",
     "traceback": [
      "\u001b[1;31mLa ejecución de celdas con 'Python 3.10.8 64-bit (microsoft store)' requieren el paquete ipykernel.\n",
      "\u001b[1;31mEjecute el siguiente comando para instalar 'ipykernel' en el entorno de Python. comando \n",
      "\u001b[1;31m: 'c:/Users/estudiante/AppData/Local/Microsoft/WindowsApps/python3.10.exe -m pip install ipykernel -U --force-reinstall'"
     ]
    }
   ],
   "source": [
    "cadena = \"\"\n",
    "for valor in df_demografia['Indicador'].unique():\n",
    "    cadena += valor + \", \"\n",
    "\n",
    "print(cadena)\n"
   ]
  },
  {
   "cell_type": "code",
   "execution_count": null,
   "metadata": {},
   "outputs": [
    {
     "ename": "",
     "evalue": "",
     "output_type": "error",
     "traceback": [
      "\u001b[1;31mLa ejecución de celdas con 'Python 3.10.8 64-bit (microsoft store)' requieren el paquete ipykernel.\n",
      "\u001b[1;31mEjecute el siguiente comando para instalar 'ipykernel' en el entorno de Python. comando \n",
      "\u001b[1;31m: 'c:/Users/estudiante/AppData/Local/Microsoft/WindowsApps/python3.10.exe -m pip install ipykernel -U --force-reinstall'"
     ]
    }
   ],
   "source": [
    "# En df_demografia eliminar filas donde 'Indicador' no sea igual a 'Puntaje SISBEN: Promedio - Total'\n",
    "df_demografia = df_demografia[df_demografia['Indicador'] == 'Puntaje SISBEN: Promedio - Total']"
   ]
  },
  {
   "cell_type": "markdown",
   "metadata": {},
   "source": [
    "Se escoge sisben fuente DNP y unidad es puntos"
   ]
  },
  {
   "cell_type": "code",
   "execution_count": null,
   "metadata": {},
   "outputs": [
    {
     "ename": "",
     "evalue": "",
     "output_type": "error",
     "traceback": [
      "\u001b[1;31mLa ejecución de celdas con 'Python 3.10.8 64-bit (microsoft store)' requieren el paquete ipykernel.\n",
      "\u001b[1;31mEjecute el siguiente comando para instalar 'ipykernel' en el entorno de Python. comando \n",
      "\u001b[1;31m: 'c:/Users/estudiante/AppData/Local/Microsoft/WindowsApps/python3.10.exe -m pip install ipykernel -U --force-reinstall'"
     ]
    }
   ],
   "source": [
    "df_demografia.drop(['Indicador', 'Subcategoría', 'Dimensión', 'Fuente', 'Unidad de Medida'], axis=1, inplace=True)"
   ]
  },
  {
   "cell_type": "code",
   "execution_count": null,
   "metadata": {},
   "outputs": [
    {
     "ename": "",
     "evalue": "",
     "output_type": "error",
     "traceback": [
      "\u001b[1;31mLa ejecución de celdas con 'Python 3.10.8 64-bit (microsoft store)' requieren el paquete ipykernel.\n",
      "\u001b[1;31mEjecute el siguiente comando para instalar 'ipykernel' en el entorno de Python. comando \n",
      "\u001b[1;31m: 'c:/Users/estudiante/AppData/Local/Microsoft/WindowsApps/python3.10.exe -m pip install ipykernel -U --force-reinstall'"
     ]
    }
   ],
   "source": [
    "df_demografia.info()"
   ]
  },
  {
   "cell_type": "markdown",
   "metadata": {},
   "source": [
    "### Desempleo"
   ]
  },
  {
   "cell_type": "code",
   "execution_count": null,
   "metadata": {},
   "outputs": [
    {
     "ename": "",
     "evalue": "",
     "output_type": "error",
     "traceback": [
      "\u001b[1;31mLa ejecución de celdas con 'Python 3.10.8 64-bit (microsoft store)' requieren el paquete ipykernel.\n",
      "\u001b[1;31mEjecute el siguiente comando para instalar 'ipykernel' en el entorno de Python. comando \n",
      "\u001b[1;31m: 'c:/Users/estudiante/AppData/Local/Microsoft/WindowsApps/python3.10.exe -m pip install ipykernel -U --force-reinstall'"
     ]
    }
   ],
   "source": [
    "df_desempleo['Indicador'].value_counts()"
   ]
  },
  {
   "cell_type": "markdown",
   "metadata": {},
   "source": [
    "Se escogió MDM fuente DNP - SPT y unidad es Puntos"
   ]
  },
  {
   "cell_type": "code",
   "execution_count": null,
   "metadata": {},
   "outputs": [
    {
     "ename": "",
     "evalue": "",
     "output_type": "error",
     "traceback": [
      "\u001b[1;31mLa ejecución de celdas con 'Python 3.10.8 64-bit (microsoft store)' requieren el paquete ipykernel.\n",
      "\u001b[1;31mEjecute el siguiente comando para instalar 'ipykernel' en el entorno de Python. comando \n",
      "\u001b[1;31m: 'c:/Users/estudiante/AppData/Local/Microsoft/WindowsApps/python3.10.exe -m pip install ipykernel -U --force-reinstall'"
     ]
    }
   ],
   "source": [
    "# En df_desempleo eliminar filas donde 'Indicador' no sea igual a 'MDM'\n",
    "df_desempleo = df_desempleo[df_desempleo['Indicador'] == 'MDM']\n",
    "print(df_desempleo.info())\n",
    "df_desempleo.sample(5)"
   ]
  },
  {
   "cell_type": "code",
   "execution_count": null,
   "metadata": {},
   "outputs": [
    {
     "ename": "",
     "evalue": "",
     "output_type": "error",
     "traceback": [
      "\u001b[1;31mLa ejecución de celdas con 'Python 3.10.8 64-bit (microsoft store)' requieren el paquete ipykernel.\n",
      "\u001b[1;31mEjecute el siguiente comando para instalar 'ipykernel' en el entorno de Python. comando \n",
      "\u001b[1;31m: 'c:/Users/estudiante/AppData/Local/Microsoft/WindowsApps/python3.10.exe -m pip install ipykernel -U --force-reinstall'"
     ]
    }
   ],
   "source": [
    "df_desempleo.drop(['Indicador', 'Subcategoría', 'Dimensión', 'Fuente', 'Unidad de Medida', 'Dato Cualitativo'], axis=1, inplace=True)"
   ]
  },
  {
   "cell_type": "markdown",
   "metadata": {},
   "source": [
    "### Vivienda"
   ]
  },
  {
   "cell_type": "code",
   "execution_count": null,
   "metadata": {},
   "outputs": [
    {
     "ename": "",
     "evalue": "",
     "output_type": "error",
     "traceback": [
      "\u001b[1;31mLa ejecución de celdas con 'Python 3.10.8 64-bit (microsoft store)' requieren el paquete ipykernel.\n",
      "\u001b[1;31mEjecute el siguiente comando para instalar 'ipykernel' en el entorno de Python. comando \n",
      "\u001b[1;31m: 'c:/Users/estudiante/AppData/Local/Microsoft/WindowsApps/python3.10.exe -m pip install ipykernel -U --force-reinstall'"
     ]
    }
   ],
   "source": [
    "df_vivienda['Indicador'].value_counts()"
   ]
  },
  {
   "cell_type": "markdown",
   "metadata": {},
   "source": [
    "Se escogió Cobertura de acueducto (REC) fuente DNP a partir de información de la Superintendencia y la unidad es Porcentaje (el valor está multiplicado por 100)"
   ]
  },
  {
   "cell_type": "code",
   "execution_count": null,
   "metadata": {},
   "outputs": [
    {
     "ename": "",
     "evalue": "",
     "output_type": "error",
     "traceback": [
      "\u001b[1;31mLa ejecución de celdas con 'Python 3.10.8 64-bit (microsoft store)' requieren el paquete ipykernel.\n",
      "\u001b[1;31mEjecute el siguiente comando para instalar 'ipykernel' en el entorno de Python. comando \n",
      "\u001b[1;31m: 'c:/Users/estudiante/AppData/Local/Microsoft/WindowsApps/python3.10.exe -m pip install ipykernel -U --force-reinstall'"
     ]
    }
   ],
   "source": [
    "# En df_desempleo eliminar filas donde 'Indicador' no sea igual a 'MDM'\n",
    "df_vivienda = df_vivienda[df_vivienda['Indicador'] == 'Cobertura de acueducto (REC)']"
   ]
  },
  {
   "cell_type": "code",
   "execution_count": null,
   "metadata": {},
   "outputs": [
    {
     "ename": "",
     "evalue": "",
     "output_type": "error",
     "traceback": [
      "\u001b[1;31mLa ejecución de celdas con 'Python 3.10.8 64-bit (microsoft store)' requieren el paquete ipykernel.\n",
      "\u001b[1;31mEjecute el siguiente comando para instalar 'ipykernel' en el entorno de Python. comando \n",
      "\u001b[1;31m: 'c:/Users/estudiante/AppData/Local/Microsoft/WindowsApps/python3.10.exe -m pip install ipykernel -U --force-reinstall'"
     ]
    }
   ],
   "source": [
    "df_vivienda.drop(['Indicador', 'Subcategoría', 'Dimensión', 'Fuente', 'Unidad de Medida', 'Dato Cualitativo'], axis=1, inplace=True)"
   ]
  },
  {
   "cell_type": "code",
   "execution_count": null,
   "metadata": {},
   "outputs": [
    {
     "ename": "",
     "evalue": "",
     "output_type": "error",
     "traceback": [
      "\u001b[1;31mLa ejecución de celdas con 'Python 3.10.8 64-bit (microsoft store)' requieren el paquete ipykernel.\n",
      "\u001b[1;31mEjecute el siguiente comando para instalar 'ipykernel' en el entorno de Python. comando \n",
      "\u001b[1;31m: 'c:/Users/estudiante/AppData/Local/Microsoft/WindowsApps/python3.10.exe -m pip install ipykernel -U --force-reinstall'"
     ]
    }
   ],
   "source": [
    "print(df_vivienda.info())\n",
    "df_vivienda.sample(5)"
   ]
  },
  {
   "cell_type": "markdown",
   "metadata": {},
   "source": [
    "### Educación"
   ]
  },
  {
   "cell_type": "code",
   "execution_count": null,
   "metadata": {},
   "outputs": [
    {
     "ename": "",
     "evalue": "",
     "output_type": "error",
     "traceback": [
      "\u001b[1;31mLa ejecución de celdas con 'Python 3.10.8 64-bit (microsoft store)' requieren el paquete ipykernel.\n",
      "\u001b[1;31mEjecute el siguiente comando para instalar 'ipykernel' en el entorno de Python. comando \n",
      "\u001b[1;31m: 'c:/Users/estudiante/AppData/Local/Microsoft/WindowsApps/python3.10.exe -m pip install ipykernel -U --force-reinstall'"
     ]
    }
   ],
   "source": [
    "df_educacion['Indicador'].value_counts()"
   ]
  },
  {
   "cell_type": "markdown",
   "metadata": {},
   "source": [
    "Se escogieron los indicadores de puntaje promedio del icfes, fuente ICFES y unidad es Puntos"
   ]
  },
  {
   "cell_type": "code",
   "execution_count": null,
   "metadata": {},
   "outputs": [
    {
     "ename": "",
     "evalue": "",
     "output_type": "error",
     "traceback": [
      "\u001b[1;31mLa ejecución de celdas con 'Python 3.10.8 64-bit (microsoft store)' requieren el paquete ipykernel.\n",
      "\u001b[1;31mEjecute el siguiente comando para instalar 'ipykernel' en el entorno de Python. comando \n",
      "\u001b[1;31m: 'c:/Users/estudiante/AppData/Local/Microsoft/WindowsApps/python3.10.exe -m pip install ipykernel -U --force-reinstall'"
     ]
    }
   ],
   "source": [
    "# Eliminar filas donde 'Indicador' no tienen la palabra 'Puntaje promedio Pruebas Saber 11'\n",
    "df_educacion = df_educacion[df_educacion['Indicador'].str.contains('Puntaje promedio Pruebas Saber 11')]"
   ]
  },
  {
   "cell_type": "code",
   "execution_count": null,
   "metadata": {},
   "outputs": [
    {
     "ename": "",
     "evalue": "",
     "output_type": "error",
     "traceback": [
      "\u001b[1;31mLa ejecución de celdas con 'Python 3.10.8 64-bit (microsoft store)' requieren el paquete ipykernel.\n",
      "\u001b[1;31mEjecute el siguiente comando para instalar 'ipykernel' en el entorno de Python. comando \n",
      "\u001b[1;31m: 'c:/Users/estudiante/AppData/Local/Microsoft/WindowsApps/python3.10.exe -m pip install ipykernel -U --force-reinstall'"
     ]
    }
   ],
   "source": [
    "df_educacion.drop(['Subcategoría', 'Dimensión', 'Fuente', 'Unidad de Medida'], axis=1, inplace=True)"
   ]
  },
  {
   "cell_type": "code",
   "execution_count": null,
   "metadata": {},
   "outputs": [
    {
     "ename": "",
     "evalue": "",
     "output_type": "error",
     "traceback": [
      "\u001b[1;31mLa ejecución de celdas con 'Python 3.10.8 64-bit (microsoft store)' requieren el paquete ipykernel.\n",
      "\u001b[1;31mEjecute el siguiente comando para instalar 'ipykernel' en el entorno de Python. comando \n",
      "\u001b[1;31m: 'c:/Users/estudiante/AppData/Local/Microsoft/WindowsApps/python3.10.exe -m pip install ipykernel -U --force-reinstall'"
     ]
    }
   ],
   "source": [
    "print(df_educacion.info())\n",
    "df_educacion.sample(5)"
   ]
  },
  {
   "cell_type": "markdown",
   "metadata": {},
   "source": [
    "### Salud"
   ]
  },
  {
   "cell_type": "code",
   "execution_count": null,
   "metadata": {},
   "outputs": [
    {
     "ename": "",
     "evalue": "",
     "output_type": "error",
     "traceback": [
      "\u001b[1;31mLa ejecución de celdas con 'Python 3.10.8 64-bit (microsoft store)' requieren el paquete ipykernel.\n",
      "\u001b[1;31mEjecute el siguiente comando para instalar 'ipykernel' en el entorno de Python. comando \n",
      "\u001b[1;31m: 'c:/Users/estudiante/AppData/Local/Microsoft/WindowsApps/python3.10.exe -m pip install ipykernel -U --force-reinstall'"
     ]
    }
   ],
   "source": [
    "df_salud['Indicador'].value_counts()"
   ]
  },
  {
   "cell_type": "markdown",
   "metadata": {},
   "source": [
    "Se escogió la Tasa de mortalidad neonatal, fuente Ministerio de Salud y Protección Social - MSPS y unidad es Defunciones por cada 1.000 nacidos vivos"
   ]
  },
  {
   "cell_type": "code",
   "execution_count": null,
   "metadata": {},
   "outputs": [
    {
     "ename": "",
     "evalue": "",
     "output_type": "error",
     "traceback": [
      "\u001b[1;31mLa ejecución de celdas con 'Python 3.10.8 64-bit (microsoft store)' requieren el paquete ipykernel.\n",
      "\u001b[1;31mEjecute el siguiente comando para instalar 'ipykernel' en el entorno de Python. comando \n",
      "\u001b[1;31m: 'c:/Users/estudiante/AppData/Local/Microsoft/WindowsApps/python3.10.exe -m pip install ipykernel -U --force-reinstall'"
     ]
    }
   ],
   "source": [
    "# Elimiinar filas donde 'Indicador' no sea igual a 'Tasa de mortalidad neonatal'\n",
    "df_salud = df_salud[df_salud['Indicador'] == 'Tasa de mortalidad neonatal']"
   ]
  },
  {
   "cell_type": "code",
   "execution_count": null,
   "metadata": {},
   "outputs": [
    {
     "ename": "",
     "evalue": "",
     "output_type": "error",
     "traceback": [
      "\u001b[1;31mLa ejecución de celdas con 'Python 3.10.8 64-bit (microsoft store)' requieren el paquete ipykernel.\n",
      "\u001b[1;31mEjecute el siguiente comando para instalar 'ipykernel' en el entorno de Python. comando \n",
      "\u001b[1;31m: 'c:/Users/estudiante/AppData/Local/Microsoft/WindowsApps/python3.10.exe -m pip install ipykernel -U --force-reinstall'"
     ]
    }
   ],
   "source": [
    "df_salud.drop(['Indicador', 'Subcategoría', 'Dimensión', 'Fuente', 'Unidad de Medida'], axis=1, inplace=True)"
   ]
  },
  {
   "cell_type": "code",
   "execution_count": null,
   "metadata": {},
   "outputs": [
    {
     "ename": "",
     "evalue": "",
     "output_type": "error",
     "traceback": [
      "\u001b[1;31mLa ejecución de celdas con 'Python 3.10.8 64-bit (microsoft store)' requieren el paquete ipykernel.\n",
      "\u001b[1;31mEjecute el siguiente comando para instalar 'ipykernel' en el entorno de Python. comando \n",
      "\u001b[1;31m: 'c:/Users/estudiante/AppData/Local/Microsoft/WindowsApps/python3.10.exe -m pip install ipykernel -U --force-reinstall'"
     ]
    }
   ],
   "source": [
    "print(df_salud.info())\n",
    "df_salud.sample(5)"
   ]
  },
  {
   "cell_type": "markdown",
   "metadata": {},
   "source": [
    "### Pobreza"
   ]
  },
  {
   "cell_type": "code",
   "execution_count": null,
   "metadata": {},
   "outputs": [
    {
     "ename": "",
     "evalue": "",
     "output_type": "error",
     "traceback": [
      "\u001b[1;31mLa ejecución de celdas con 'Python 3.10.8 64-bit (microsoft store)' requieren el paquete ipykernel.\n",
      "\u001b[1;31mEjecute el siguiente comando para instalar 'ipykernel' en el entorno de Python. comando \n",
      "\u001b[1;31m: 'c:/Users/estudiante/AppData/Local/Microsoft/WindowsApps/python3.10.exe -m pip install ipykernel -U --force-reinstall'"
     ]
    }
   ],
   "source": [
    "df_pobreza['Indicador'].value_counts()"
   ]
  },
  {
   "cell_type": "markdown",
   "metadata": {},
   "source": [
    "Se escogio Índice de pobreza multidimensional - IPM, fuente DANE y unidad de medida Porcentaje (el valor está multiplicado por 100)"
   ]
  },
  {
   "cell_type": "code",
   "execution_count": null,
   "metadata": {},
   "outputs": [
    {
     "ename": "",
     "evalue": "",
     "output_type": "error",
     "traceback": [
      "\u001b[1;31mLa ejecución de celdas con 'Python 3.10.8 64-bit (microsoft store)' requieren el paquete ipykernel.\n",
      "\u001b[1;31mEjecute el siguiente comando para instalar 'ipykernel' en el entorno de Python. comando \n",
      "\u001b[1;31m: 'c:/Users/estudiante/AppData/Local/Microsoft/WindowsApps/python3.10.exe -m pip install ipykernel -U --force-reinstall'"
     ]
    }
   ],
   "source": [
    "# Eliminar filas donde 'Indicador' no sea igual a 'Índice de pobreza multidimensional - IPM'\n",
    "df_pobreza = df_pobreza[df_pobreza['Indicador'] == 'Índice de pobreza multidimensional - IPM']"
   ]
  },
  {
   "cell_type": "code",
   "execution_count": null,
   "metadata": {},
   "outputs": [
    {
     "ename": "",
     "evalue": "",
     "output_type": "error",
     "traceback": [
      "\u001b[1;31mLa ejecución de celdas con 'Python 3.10.8 64-bit (microsoft store)' requieren el paquete ipykernel.\n",
      "\u001b[1;31mEjecute el siguiente comando para instalar 'ipykernel' en el entorno de Python. comando \n",
      "\u001b[1;31m: 'c:/Users/estudiante/AppData/Local/Microsoft/WindowsApps/python3.10.exe -m pip install ipykernel -U --force-reinstall'"
     ]
    }
   ],
   "source": [
    "df_pobreza.drop(['Indicador', 'Subcategoría', 'Dimensión', 'Fuente', 'Unidad de Medida'], axis=1, inplace=True)"
   ]
  },
  {
   "cell_type": "code",
   "execution_count": null,
   "metadata": {},
   "outputs": [
    {
     "ename": "",
     "evalue": "",
     "output_type": "error",
     "traceback": [
      "\u001b[1;31mLa ejecución de celdas con 'Python 3.10.8 64-bit (microsoft store)' requieren el paquete ipykernel.\n",
      "\u001b[1;31mEjecute el siguiente comando para instalar 'ipykernel' en el entorno de Python. comando \n",
      "\u001b[1;31m: 'c:/Users/estudiante/AppData/Local/Microsoft/WindowsApps/python3.10.exe -m pip install ipykernel -U --force-reinstall'"
     ]
    }
   ],
   "source": [
    "print(df_pobreza.info())\n",
    "df_pobreza.sample(5)"
   ]
  },
  {
   "cell_type": "markdown",
   "metadata": {},
   "source": [
    "# Datos para el modelo"
   ]
  },
  {
   "cell_type": "code",
   "execution_count": null,
   "metadata": {},
   "outputs": [
    {
     "ename": "",
     "evalue": "",
     "output_type": "error",
     "traceback": [
      "\u001b[1;31mLa ejecución de celdas con 'Python 3.10.8 64-bit (microsoft store)' requieren el paquete ipykernel.\n",
      "\u001b[1;31mEjecute el siguiente comando para instalar 'ipykernel' en el entorno de Python. comando \n",
      "\u001b[1;31m: 'c:/Users/estudiante/AppData/Local/Microsoft/WindowsApps/python3.10.exe -m pip install ipykernel -U --force-reinstall'"
     ]
    }
   ],
   "source": [
    "print(df_departamentos.info())\n",
    "\n",
    "# Rename Código Entidad column to CodigoEntidad\n",
    "df_departamentos.rename(columns={'Código Entidad': 'CodigoEntidad'}, inplace=True)\n",
    "\n",
    "# Export 'df_departamentos' dataframe to 'departamentos.csv' file\n",
    "df_departamentos.to_csv('../Datos/procesados/departamentos.csv', index=False)"
   ]
  },
  {
   "cell_type": "code",
   "execution_count": null,
   "metadata": {},
   "outputs": [
    {
     "ename": "",
     "evalue": "",
     "output_type": "error",
     "traceback": [
      "\u001b[1;31mLa ejecución de celdas con 'Python 3.10.8 64-bit (microsoft store)' requieren el paquete ipykernel.\n",
      "\u001b[1;31mEjecute el siguiente comando para instalar 'ipykernel' en el entorno de Python. comando \n",
      "\u001b[1;31m: 'c:/Users/estudiante/AppData/Local/Microsoft/WindowsApps/python3.10.exe -m pip install ipykernel -U --force-reinstall'"
     ]
    }
   ],
   "source": [
    "df_mineria.rename(columns={'Código Entidad': 'CodigoEntidad', \"Año\":\"Anio\"}, inplace=True)\n",
    "\n",
    "print(df_mineria.info())\n",
    "\n",
    "# Export the 'df_mineria' dataframe to a csv file\n",
    "df_mineria.to_csv('../Datos/procesados/mineria.csv', index=False)"
   ]
  },
  {
   "cell_type": "code",
   "execution_count": null,
   "metadata": {},
   "outputs": [
    {
     "ename": "",
     "evalue": "",
     "output_type": "error",
     "traceback": [
      "\u001b[1;31mLa ejecución de celdas con 'Python 3.10.8 64-bit (microsoft store)' requieren el paquete ipykernel.\n",
      "\u001b[1;31mEjecute el siguiente comando para instalar 'ipykernel' en el entorno de Python. comando \n",
      "\u001b[1;31m: 'c:/Users/estudiante/AppData/Local/Microsoft/WindowsApps/python3.10.exe -m pip install ipykernel -U --force-reinstall'"
     ]
    }
   ],
   "source": [
    "df_conflicto.rename(columns={'Código Entidad': 'CodigoEntidad', 'Dato Numérico': 'DatoNumerico', \"Año\":\"Anio\"}, inplace=True)\n",
    "\n",
    "print(df_conflicto.info())\n",
    "\n",
    "# Export the 'df_conflicto' dataframe to a csv file\n",
    "df_conflicto.to_csv('../Datos/procesados/conflicto.csv', index=False)"
   ]
  },
  {
   "cell_type": "code",
   "execution_count": null,
   "metadata": {},
   "outputs": [
    {
     "ename": "",
     "evalue": "",
     "output_type": "error",
     "traceback": [
      "\u001b[1;31mLa ejecución de celdas con 'Python 3.10.8 64-bit (microsoft store)' requieren el paquete ipykernel.\n",
      "\u001b[1;31mEjecute el siguiente comando para instalar 'ipykernel' en el entorno de Python. comando \n",
      "\u001b[1;31m: 'c:/Users/estudiante/AppData/Local/Microsoft/WindowsApps/python3.10.exe -m pip install ipykernel -U --force-reinstall'"
     ]
    }
   ],
   "source": [
    "df_demografia.rename(columns={'Código Entidad': 'CodigoEntidad', 'Dato Numérico': 'DatoNumerico', \"Año\":\"Anio\"}, inplace=True)\n",
    "\n",
    "print(df_demografia.info())\n",
    "\n",
    "# Export the 'df_demografia' dataframe to a csv file\n",
    "df_demografia.to_csv('../Datos/procesados/demografia.csv', index=False)"
   ]
  },
  {
   "cell_type": "code",
   "execution_count": null,
   "metadata": {},
   "outputs": [
    {
     "ename": "",
     "evalue": "",
     "output_type": "error",
     "traceback": [
      "\u001b[1;31mLa ejecución de celdas con 'Python 3.10.8 64-bit (microsoft store)' requieren el paquete ipykernel.\n",
      "\u001b[1;31mEjecute el siguiente comando para instalar 'ipykernel' en el entorno de Python. comando \n",
      "\u001b[1;31m: 'c:/Users/estudiante/AppData/Local/Microsoft/WindowsApps/python3.10.exe -m pip install ipykernel -U --force-reinstall'"
     ]
    }
   ],
   "source": [
    "df_desempleo.rename(columns={'Código Entidad': 'CodigoEntidad', 'Dato Numérico': 'DatoNumerico', \"Año\":\"Anio\"}, inplace=True)\n",
    "\n",
    "print(df_desempleo.info())\n",
    "\n",
    "# Export the 'df_desempleo' dataframe to a csv file\n",
    "df_desempleo.to_csv('../Datos/procesados/desempleo.csv', index=False)"
   ]
  },
  {
   "cell_type": "code",
   "execution_count": null,
   "metadata": {},
   "outputs": [
    {
     "ename": "",
     "evalue": "",
     "output_type": "error",
     "traceback": [
      "\u001b[1;31mLa ejecución de celdas con 'Python 3.10.8 64-bit (microsoft store)' requieren el paquete ipykernel.\n",
      "\u001b[1;31mEjecute el siguiente comando para instalar 'ipykernel' en el entorno de Python. comando \n",
      "\u001b[1;31m: 'c:/Users/estudiante/AppData/Local/Microsoft/WindowsApps/python3.10.exe -m pip install ipykernel -U --force-reinstall'"
     ]
    }
   ],
   "source": [
    "df_vivienda.rename(columns={'Código Entidad': 'CodigoEntidad', 'Dato Numérico': 'DatoNumerico', \"Año\":\"Anio\"}, inplace=True)\n",
    "\n",
    "print(df_vivienda.info())\n",
    "\n",
    "# Export the 'df_vivienda' dataframe to a csv file\n",
    "df_vivienda.to_csv('../Datos/procesados/vivienda.csv', index=False)"
   ]
  },
  {
   "cell_type": "code",
   "execution_count": null,
   "metadata": {},
   "outputs": [
    {
     "ename": "",
     "evalue": "",
     "output_type": "error",
     "traceback": [
      "\u001b[1;31mLa ejecución de celdas con 'Python 3.10.8 64-bit (microsoft store)' requieren el paquete ipykernel.\n",
      "\u001b[1;31mEjecute el siguiente comando para instalar 'ipykernel' en el entorno de Python. comando \n",
      "\u001b[1;31m: 'c:/Users/estudiante/AppData/Local/Microsoft/WindowsApps/python3.10.exe -m pip install ipykernel -U --force-reinstall'"
     ]
    }
   ],
   "source": [
    "df_educacion.rename(columns={'Código Entidad': 'CodigoEntidad', 'Dato Numérico': 'DatoNumerico', \"Año\":\"Anio\"}, inplace=True)\n",
    "\n",
    "print(df_educacion.info())\n",
    "\n",
    "# Export the 'df_educacion' dataframe to a csv file\n",
    "df_educacion.to_csv('../Datos/procesados/educacion.csv', index=False)"
   ]
  },
  {
   "cell_type": "code",
   "execution_count": null,
   "metadata": {},
   "outputs": [
    {
     "ename": "",
     "evalue": "",
     "output_type": "error",
     "traceback": [
      "\u001b[1;31mLa ejecución de celdas con 'Python 3.10.8 64-bit (microsoft store)' requieren el paquete ipykernel.\n",
      "\u001b[1;31mEjecute el siguiente comando para instalar 'ipykernel' en el entorno de Python. comando \n",
      "\u001b[1;31m: 'c:/Users/estudiante/AppData/Local/Microsoft/WindowsApps/python3.10.exe -m pip install ipykernel -U --force-reinstall'"
     ]
    }
   ],
   "source": [
    "df_salud.rename(columns={'Código Entidad': 'CodigoEntidad', 'Dato Numérico': 'DatoNumerico', \"Año\":\"Anio\"}, inplace=True)\n",
    "\n",
    "print(df_salud.info())\n",
    "\n",
    "# Export the 'df_salud' dataframe to a csv file\n",
    "df_salud.to_csv('../Datos/procesados/salud.csv', index=False)"
   ]
  },
  {
   "cell_type": "code",
   "execution_count": null,
   "metadata": {},
   "outputs": [
    {
     "ename": "",
     "evalue": "",
     "output_type": "error",
     "traceback": [
      "\u001b[1;31mLa ejecución de celdas con 'Python 3.10.8 64-bit (microsoft store)' requieren el paquete ipykernel.\n",
      "\u001b[1;31mEjecute el siguiente comando para instalar 'ipykernel' en el entorno de Python. comando \n",
      "\u001b[1;31m: 'c:/Users/estudiante/AppData/Local/Microsoft/WindowsApps/python3.10.exe -m pip install ipykernel -U --force-reinstall'"
     ]
    }
   ],
   "source": [
    "df_pobreza.rename(columns={'Código Entidad': 'CodigoEntidad', 'Dato Numérico': 'DatoNumerico', \"Año\":\"Anio\"}, inplace=True)\n",
    "\n",
    "print(df_pobreza.info())\n",
    "\n",
    "# Export the 'df_pobreza' dataframe to a csv file\n",
    "df_pobreza.to_csv('../Datos/procesados/pobreza.csv', index=False)"
   ]
  }
 ],
 "metadata": {
  "kernelspec": {
   "display_name": "Python 3.10.8 64-bit (microsoft store)",
   "language": "python",
   "name": "python3"
  },
  "language_info": {
   "codemirror_mode": {
    "name": "ipython",
    "version": 3
   },
   "file_extension": ".py",
   "mimetype": "text/x-python",
   "name": "python",
   "nbconvert_exporter": "python",
   "pygments_lexer": "ipython3",
   "version": "3.10.8"
  },
  "orig_nbformat": 4,
  "vscode": {
   "interpreter": {
    "hash": "e0acaf148705ed9ed86cc5cad12259d7985e30670e5686e5f55604a9b3b84a55"
   }
  }
 },
 "nbformat": 4,
 "nbformat_minor": 2
}
